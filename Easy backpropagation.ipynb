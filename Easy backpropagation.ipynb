{
  "nbformat": 4,
  "nbformat_minor": 0,
  "metadata": {
    "colab": {
      "name": "Метод обратного распространения ошибок.ipynb",
      "version": "0.3.2",
      "provenance": [],
      "collapsed_sections": []
    },
    "kernelspec": {
      "name": "python3",
      "display_name": "Python 3"
    }
  },
  "cells": [
    {
      "cell_type": "markdown",
      "metadata": {
        "id": "gw5NGjJvmuch",
        "colab_type": "text"
      },
      "source": [
        "# Метод обратного распространения ошибок\n",
        "\n",
        "\n",
        "---\n",
        "\n",
        "\n",
        "Материал подготовлен с использованием статьи: https://mattmazur.com/2015/03/17/a-step-by-step-backpropagation-example/\n",
        "\n",
        "\n",
        "   Рассмотрим простую нейронную сеть, которая представляет из себя \n",
        "*   2 входных нейрона\n",
        "*   2 скрытых нейрона\n",
        "*   2 выходных нейрона\n",
        "*   2 нейрона смещения (на каждый слой по одному)\n",
        "\n",
        "![alt text](https://matthewmazur.files.wordpress.com/2018/03/neural_network-7.png)\n",
        "\n",
        "   \n",
        " "
      ]
    },
    {
      "cell_type": "markdown",
      "metadata": {
        "id": "hYcL588FqRDl",
        "colab_type": "text"
      },
      "source": [
        "Рассмотрим проход по сети сигнала (0.05, 0.10), а потом произведем переинициализацию весов сети методом обратного распространения ошибки, опираясь на то, что выходным значением является (0.01,0.99). Зафиксируем начальные веса нейронов значениями, указанными на картинке снизу.\n",
        "![alt text](https://matthewmazur.files.wordpress.com/2018/03/neural_network-9.png)"
      ]
    },
    {
      "cell_type": "markdown",
      "metadata": {
        "id": "JtqIEMOo10Mm",
        "colab_type": "text"
      },
      "source": [
        "# Пишем нейронную сеть с функциями прямого распространения сигнала и обратного распространения ошибки"
      ]
    },
    {
      "cell_type": "code",
      "metadata": {
        "id": "5Jl5dodGnAzY",
        "colab_type": "code",
        "colab": {}
      },
      "source": [
        "import numpy as np\n",
        "import matplotlib.pyplot as plt\n",
        "def print_formula(tex):\n",
        "  '''\n",
        "    Рисуем формулы при выводе print().\n",
        "  '''\n",
        "  ### Создание области отрисовки\n",
        "  fig = plt.figure()\n",
        "  ax = fig.add_axes([0,0,1,1])\n",
        "  ax.set_axis_off()\n",
        "\n",
        "  ### Отрисовка формулы\n",
        "  t = ax.text(0.5, 0.5, tex,\n",
        "          horizontalalignment='center',\n",
        "          verticalalignment='center',\n",
        "          fontsize=20, color='black')\n",
        "  ### Определение размеров формулы\n",
        "  ax.figure.canvas.draw()\n",
        "  bbox = t.get_window_extent()\n",
        "  #print(bbox.width, bbox.height)\n",
        "\n",
        "  # Установка размеров области отрисовки\n",
        "  fig.set_size_inches(bbox.width/80,bbox.height/80) # dpi=80\n",
        "\n",
        "  ### Отрисовка или сохранение формулы в файл\n",
        "  plt.show()\n",
        "\n",
        "# В учебной сети будет использоваться одна и та же функция активации для всех нейронов\n",
        "def sigmoid(x):\n",
        "  '''\n",
        "    Сигмоида, она и в Африке сигмоида.\n",
        "  '''\n",
        "  return 1.0 / (1.0 + np.exp(-x))\n",
        "\n",
        "# В качестве функции потерь возьмем квадратичное отклонение (sef-squared error function)\n",
        "def sef(x_input,y_output):\n",
        "  return 1/2*np.sum((x_input-y_output)**2)\n",
        "\n",
        "# Создание простой нейронной сети\n",
        "class simple_NN():\n",
        "  '''\n",
        "    Простая нейронная сеть для демонстрации работы \n",
        "    прямого прохождения сигнала по нейронной сети и \n",
        "    обратного распространения ошибки.\n",
        "  '''\n",
        "  \n",
        "  def __init__(self,input_shape=2,dense1_shape=2,out_shape=2,bias_flag=True, activation=sigmoid,loss=sef):\n",
        "    '''\n",
        "      Инициализация параметров нейронной сети\n",
        "    '''\n",
        "    # Зафиксируем одну и ту же функцию активации для каждого слоя сети!\n",
        "    self.activation     = activation\n",
        "    \n",
        "    # Зафиксируем одну и ту же функцию потерь для каждого слоя сети!\n",
        "    self.loss           = loss\n",
        "    \n",
        "    # Сделаем указанные размеры явными членами\n",
        "    self.input_shape    = input_shape\n",
        "    self.dense1_shape   = dense1_shape\n",
        "    self.out_shape      = out_shape\n",
        "    self.bias_flag      = bias_flag    \n",
        "    \n",
        "    # Входной слой\n",
        "    self.IDense_out   = np.zeros(self.input_shape) # выход нейронов первого слоя с учетом нейрона смещения\n",
        "    \n",
        "    # Внутренний слой\n",
        "    self.Dense1_net   = np.zeros(self.dense1_shape) # значение суммы на входе в каждый нейрон внутреннего слоя\n",
        "    self.Dense1_out   = np.zeros(self.dense1_shape) # выходное значение из каждого нейрона внутреннего слоя с учетом нейрона смещения\n",
        "    self.Dense1_delta = np.zeros(self.out_shape)    # массив для подсчета дельт в методе обратного распространения ошибки\n",
        "    self.Dense1_wth   = np.zeros( (self.dense1_shape, self.input_shape) ) # матрица весов для нейронов внутреннего слоя\n",
        "    # TODO:\n",
        "    # self.Dense1_wth = init_random_weights()\n",
        "    self.Dense1_wth   = np.array([[0.15,0.20],[0.25,0.30]]) # инициализация весов для нейронов внутреннего слоя\n",
        "    \n",
        "    # Выходной слой\n",
        "    self.ODense_net   = np.zeros(self.out_shape) # значение суммы на входе в каждый нейрон выходного слоя\n",
        "    self.ODense_out   = np.zeros(self.out_shape) # выходное значение из каждого нейрона выходного слоя\n",
        "    self.ODense_delta = np.zeros(self.out_shape) # массив для подсчета дельт в методе обратного распространения ошибки\n",
        "    self.ODense_wth   = np.zeros( (self.out_shape, self.dense1_shape) ) # матрица весов для нейронов выходного слоя\n",
        "    # TODO:\n",
        "    # self.ODense_wth = init_random_weights()\n",
        "    self.ODense_wth   = np.array([[0.40,0.45],[0.50,0.55]]) # инициализация весов для нейронов выходного слоя\n",
        "\n",
        "    #Нейроны смещения для каждого слоя\n",
        "    self.bias = np.zeros(2) # количество слоев кроме последнего выходного\n",
        "    # TODO:\n",
        "    # self.Dense1_wth = init_random_weights()\n",
        "    self.bias = np.array([0.35,0.60])  \n",
        "  \n",
        "  def summary(self):\n",
        "    '''\n",
        "      Сводная информация о сети\n",
        "    '''\n",
        "    print(\n",
        "        \"Нейронная сеть с параметрами:\\n {0}-входных нейронов\\n {1}-нейронов внутреннего слоя\\n {2}-нейронов выходного слоя\".format(self.input_shape,self.dense1_shape,self.out_shape)\n",
        "    )\n",
        "    if self.bias_flag:\n",
        "      print(\"Всего параметров: {}\".format(self.input_shape*self.dense1_shape + self.dense1_shape*self.out_shape + 2))# 2 - количество слоев за вычетом последнего \n",
        "    else:\n",
        "      print(\"Всего параметров: {}\".format(self.input_shape*self.dense1_shape + self.dense1_shape*self.out_shape)) \n",
        "  \n",
        "  def show_weights(self, verbose=False): \n",
        "    '''\n",
        "      Вывод весов сети\n",
        "      params:\n",
        "       verbose: True - выводить комментарии\n",
        "    '''\n",
        "    print(\"{:*^30}\".format('weights'))\n",
        "    if verbose:\n",
        "      print('Веса!')\n",
        "      print('Dense1')\n",
        "    #print('\\n'+'-'*30 + 'weights'+ '-'*30)\n",
        "    for i in range(self.dense1_shape):\n",
        "      print(self.Dense1_wth[i])\n",
        "    print(self.bias[0])\n",
        "    if verbose:\n",
        "      print('ODense')\n",
        "    for i in range(self.out_shape):\n",
        "      print(self.ODense_wth[i])\n",
        "    print(self.bias[1])\n",
        "    print(\"{:*^30}\".format('*******'))\n",
        "  \n",
        "  def forward_pass(self,x_input,verbose=1):\n",
        "    '''\n",
        "      Прямое прохождение сигнала по нейронной сети!\n",
        "      params:\n",
        "        verbose: 0 - ничего не выводить \n",
        "                 1 - выводить промежуточные значения\n",
        "                 2 - режим учебы, полный разбор примера прохождения для входа (0.05,0.1)\n",
        "      output: значения с выходных нейронов сети\n",
        "    '''\n",
        "    if verbose==1 or verbose==2:\n",
        "      print(\"{:*^60}\".format('forward_pass'))\n",
        "    if verbose==2:\n",
        "      print(\"Прямое прохождение сигнала!\\nПройдем по всем промежуточным значениям сети!\")\n",
        "    \n",
        "    # 1. Общитываем значения на внутреннем слое!\n",
        "    # 1.1 Находим взвешенное значение для подачи на функцию активации\n",
        "    if verbose==2:\n",
        "      print('1. Находим значения на внутреннем слое.')\n",
        "      print('1.1. Вычисляем взвешенное значение для подачи на функцию активации. Формула для первого нейрона:')\n",
        "      print_formula('$net_{h_1} = w_1 * i_1 + w_2 * i_2 + b_1 * 1=0.15 * 0.05 + 0.2 * 0.1 + 0.35 * 1 = 0.3775$')\n",
        "      print('Итоговые значения:')\n",
        "    for n_count in range(self.dense1_shape):\n",
        "      self.Dense1_net[n_count] = np.inner(self.Dense1_wth[n_count],x_input) + self.bias[0]*1\n",
        "      if verbose==1 or verbose==2:\n",
        "        print('net_h{0}={1}'.format(n_count+1,round(self.Dense1_net[n_count],4)))\n",
        "    \n",
        "    # 1.2 Активируем нейрон\n",
        "    if verbose==2:\n",
        "      print('1.2. Находим выходные значения каждого нейрона.Формула для первого нейрона: : ')\n",
        "      print_formula('$out_{h1} = \\\\frac{1}{1+e^{-net_{h1}}} = \\\\frac{1}{1+e^{-0.3775}} = 0.5932$')\n",
        "      print('Итоговые значения:')\n",
        "    for n_count in range(self.dense1_shape):\n",
        "      self.Dense1_out[n_count] = self.activation(self.Dense1_net[n_count])\n",
        "      if verbose==1 or verbose==2:\n",
        "        print('out_h{0}={1}'.format(n_count+1,round(self.Dense1_out[n_count],4)))\n",
        "      \n",
        "    # 2. Общитываем значения на выходном слое!\n",
        "    # 2.1 Находим взвешенное значение для подачи на активацию активации\n",
        "    if verbose==2:\n",
        "      print('2. Находим значения на выходном слое.')\n",
        "      print('2.1. Вычисляем взвешенное значение для подачи на функцию активации. Формула для первого нейрона:')\n",
        "      print_formula('$net_{o1} = w_5 * out_{h1} + w_6 * out_{h2} + b_2 * 1=0.4 * 0.5932 + 0.45 * 0.5968 + 0.6 * 1 = 1.1059$')\n",
        "      print('Итоговые значения:')\n",
        "    for n_count in range(self.out_shape):\n",
        "      self.ODense_net[n_count] = np.inner(self.ODense_wth[n_count],self.Dense1_out) + self.bias[1]*1\n",
        "      if verbose==1 or verbose==2:\n",
        "        print('net_o{0}={1}'.format(n_count+1,round(self.ODense_net[n_count],4)))\n",
        "    \n",
        "    # 2.2 Активируем нейрон\n",
        "    if verbose==2:\n",
        "      print('2.2. Находим выходные значения каждого нейрона. Формула для первого нейрона: : ')\n",
        "      print_formula('$out_{o1} = \\\\frac{1}{1+e^{-net_{o1}}} = \\\\frac{1}{1+e^{-1.1059}} = 0.7513$')\n",
        "      print('Итоговые значения:')\n",
        "    for n_count in range(self.out_shape):\n",
        "      self.ODense_out[n_count] = self.activation(self.ODense_net[n_count])\n",
        "      if verbose==1 or verbose==2:\n",
        "        print('out_o{0}={1}'.format(n_count+1,round(self.ODense_out[n_count],4)))\n",
        "    \n",
        "    if verbose==1 or verbose==2:\n",
        "      print(\"{:*^60}\".format('************'))\n",
        "    # Берем выходные значения  \n",
        "    return  self.ODense_out\n",
        "\n",
        "  def backward_pass(self, x_input,y_ideal,y_output,lr=0.5,verbose=1):\n",
        "    '''\n",
        "      Обратное распространение ошибки\n",
        "      params:\n",
        "        verbose: 0 - ничего не выводить \n",
        "                 1 - выводить промежуточные значения\n",
        "                 2 - режим учебы, полный разбор примера обратного распространения для входа (0.05,0.1) и выхода (0.1,0.99) \n",
        "    '''\n",
        "    self.IDense_out = np.array(x_input)\n",
        "    if verbose==1 or verbose==2:\n",
        "      print(\"{:*^60}\".format('backward_pass'))\n",
        "    if verbose==2:\n",
        "      print(\"Обратное распространение ошибки!\\nПройдем по всем промежуточным значениям в методе обратного распространения!\")\n",
        "      print(\"Основная идея метода обратного распространения ошибки заключается в том,\\nчто для минимизации значения функции потерь Etotal на обучающей выборке \\nмы рассматриваем функцию многих переменных Etotal(w1,w2,...,w8,b1,b2)\\nи стремимся ее минимизировать уменьшая значения переменных w1,w2,...,w8,b1,b2 на некоторую величину,\\nпри этом двигаясь в направлении обратном направлению вектора градиента -\\nвектору, который указывает направление наискорейшего возрастания функции.\")\n",
        "      \n",
        "    # Находим ошибку предсказания\n",
        "    E_total = model.loss(y_ideal,y_output)\n",
        "    if verbose==2:\n",
        "      print('\\nПромежуточные значения после прямого прохождения у нас сохранены. Также можно найти значение функции Etotal:')\n",
        "      print_formula('$E_{total} = E_{o1} + E_{o2} = \\\\frac{1}{2}(target_{o1} - out_{o1})^{2} + \\\\frac{1}{2}(target_{o2} - out_{o2})^{2} = \\\\frac{1}{2}(0.01 - 0.7513)^{2} + \\\\frac{1}{2}(0.99 - 0.7729)^{2} = 0.2748 + 0.0235 = 0.2983$')    \n",
        "      \n",
        "    # Работаем в обратною сторону\n",
        "    # 1. Пересчет значений весов выходных нейронов\n",
        "    if verbose==2:\n",
        "      print('\\n1. Пересчет значений весов выходных нейронов. Рассмотрим на примере параметра w5.')\n",
        "      print('Применим правило цепочки для вычисления искомого значения частной производной - компоненты вектора градиента, отвечающей за переменную w5:')\n",
        "      print_formula('$\\\\frac{\\\\partial E_{total}}{\\\\partial w_{5}} = \\\\frac{\\\\partial E_{total}}{\\\\partial out_{o1}} * \\\\frac{\\\\partial out_{o1}}{\\\\partial net_{o1}} * \\\\frac{\\\\partial net_{o1}}{\\\\partial w_{5}}$')\n",
        "      print('Будем последовательно находить значения каждой производной из произведения:')\n",
        "      print_formula('$E_{total} = \\\\frac{1}{2}(target_{o1} - out_{o1})^{2} + \\\\frac{1}{2}(target_{o2} - out_{o2})^{2}$')\n",
        "      print_formula('$\\\\frac{\\\\partial E_{total}}{\\\\partial out_{o1}} = 2 * \\\\frac{1}{2}(target_{o1} - out_{o1})^{2 - 1} * (-1) + 0 = -(target_{o1} - out_{o1}) = -(0.01 - 0.7513) = 0.74136.$')\n",
        "      print('Переходим к следующей:')\n",
        "      print_formula('$\\\\frac{\\\\partial out_{o1}}{\\\\partial net_{o1}} =\\\\frac{\\\\partial \\\\frac{1}{1+e^{-net_{o1}}}}{\\\\partial net_{o1}} = out_{o1}(1 - out_{o1}) = 0.7513(1 - 0.7513) = 0.1868$')\n",
        "      print('Заканчиваем нахождением:')\n",
        "      print_formula('$\\\\frac{\\\\partial net_{o1}}{\\\\partial w_{5}} =\\\\frac{\\\\partial (w_5 * out_{h1} + w_6 * out_{h2} + b_2 * 1)}{\\\\partial w_{5}} = 1 * out_{h1} * w_5^{(1 - 1)} + 0 + 0 = out_{h1} = 0.5932$')\n",
        "      print('Теперь находим искомое значение производной:')\n",
        "      print_formula('$\\\\frac{\\\\partial E_{total}}{\\\\partial w_{5}} = \\\\frac{\\\\partial E_{total}}{\\\\partial out_{o1}} * \\\\frac{\\\\partial out_{o1}}{\\\\partial net_{o1}} * \\\\frac{\\\\partial net_{o1}}{\\\\partial w_{5}}= 0.7413 * 0.1868 * 0.5932 = 0.0821$')\n",
        "      print('Если все выкладки объединить в одну формулу, то получим выражение:')\n",
        "      print_formula('$\\\\frac{\\\\partial E_{total}}{\\\\partial w_{5}} = \\\\delta_{o1} out_{h1},$')\n",
        "      print('где для каждого выходного нейрона можно найти')\n",
        "      print_formula('$\\\\delta_{o1} = -(target_{o1} - out_{o1}) * out_{o1}(1 - out_{o1}).$') \n",
        "    \n",
        "    def delta_out(count):\n",
        "      '''\n",
        "        Подсчет дельты для выходных нейронов\n",
        "      '''\n",
        "      return -(y_ideal[count]-y_output[count])*y_output[count]*(1-y_output[count])\n",
        "    \n",
        "    # Нахождение дельт для выходных нейронов\n",
        "    for n_count in range(self.out_shape):\n",
        "      self.ODense_delta[n_count] = delta_out(n_count)\n",
        "      if verbose==1 or verbose==2:\n",
        "        print('delta_o{0}={1}'.format(n_count+1,round(self.ODense_delta[n_count],4)))\n",
        "    \n",
        "    # Обновление весов нейронов выходного слоя\n",
        "    if verbose==2:\n",
        "      print('Обновление веса выполняется по формуле:')\n",
        "      print_formula('$w_5 = w_5 - \\\\eta * \\\\frac{\\\\partial E_{total}}{\\\\partial w_{5}} = w_5 - \\\\eta * \\\\delta_{o1} out_{h1}=0.4 - 0.5 * 0.0821 = 0.3589$')\n",
        "    if verbose==1 or verbose==2:\n",
        "      print('Значения обновленных весов:')\n",
        "    for n_count in range(self.out_shape):\n",
        "      for w_count in range(self.dense1_shape):\n",
        "        self.ODense_wth[n_count][w_count] = self.ODense_wth[n_count][w_count] - lr*self.ODense_delta[n_count]*self.Dense1_out[w_count]\n",
        "      if verbose==1 or verbose==2:\n",
        "        print(self.ODense_wth[n_count])\n",
        "        \n",
        "    # 2. Пересчет значений весов внутренних нейронов\n",
        "    if verbose==2:\n",
        "      print('\\n2. Пересчет значений весов внутренних нейронов. Рассмотрим на примере параметра w1.')\n",
        "      print('Применим правило цепочки для вычисления искомого значения частной производной - компоненты вектора градиента, отвечающей за переменную w1:')\n",
        "      print_formula('$\\\\frac{\\\\partial E_{total}}{\\\\partial w_{1}} = \\\\frac{\\\\partial E_{total}}{\\\\partial out_{h1}} * \\\\frac{\\\\partial out_{h1}}{\\\\partial net_{h1}} * \\\\frac{\\\\partial net_{h1}}{\\\\partial w_{1}}$')\n",
        "      print('Будем последовательно находить значения каждой производной из произведения:')\n",
        "      print_formula('$\\\\frac{\\\\partial E_{total}}{\\\\partial out_{h1}} = \\\\frac{\\\\partial E_{o1}}{\\\\partial out_{h1}} + \\\\frac{\\\\partial E_{o2}}{\\\\partial out_{h1}}$')\n",
        "      print('Найдем первое слагаемое:')\n",
        "      print_formula('$\\\\frac{\\\\partial E_{o1}}{\\\\partial out_{h1}} = \\\\frac{\\\\partial E_{o1}}{\\\\partial net_{o1}} * \\\\frac{\\\\partial net_{o1}}{\\\\partial out_{h1}}$')\n",
        "      print('Ввиду того, что некоторые значения мы уже нашли, то можно вычислить:')\n",
        "      print_formula('$\\\\frac{\\\\partial E_{o1}}{\\\\partial net_{o1}} = \\\\frac{\\\\partial E_{o1}}{\\\\partial out_{o1}} * \\\\frac{\\\\partial out_{o1}}{\\\\partial net_{o1}} = 0.7413 * 0.1868 = 0.1384$')\n",
        "      print('При этом дело обстоит совсем просто в случае:')\n",
        "      print_formula('$\\\\frac{\\\\partial net_{o1}}{\\\\partial out_{h1}} = \\\\frac{\\\\partial (w_5 * out_{h1} + w_6 * out_{h2} + b_2 * 1)}{\\\\partial out_{h1}} = w_5 = 0.40$')\n",
        "      print('Таким образом, получаем:')\n",
        "      print_formula('$\\\\frac{\\\\partial E_{o1}}{\\\\partial out_{h1}} = \\\\frac{\\\\partial E_{o1}}{\\\\partial net_{o1}} * \\\\frac{\\\\partial net_{o1}}{\\\\partial out_{h1}} = 0.1384 * 0.40 = 0.0553$')\n",
        "      print('Найдя аналогичным образом значение второго слагаемого, будем иметь:')\n",
        "      print_formula('$\\\\frac{\\\\partial E_{total}}{\\\\partial out_{h1}} = \\\\frac{\\\\partial E_{o1}}{\\\\partial out_{h1}} + \\\\frac{\\\\partial E_{o2}}{\\\\partial out_{h1}} = 0.0553 + (-0.0190) = 0.03635$')\n",
        "      print('Значение второго множителя в искомом произведении производных легко можно получить:')\n",
        "      print_formula('$\\\\frac{\\\\partial out_{h1}}{\\\\partial net_{h1}} =\\\\frac{\\\\partial \\\\frac{1}{1+e^{-net_{h1}}}}{\\\\partial net_{h1}}= out_{h1}(1 - out_{h1}) = 0.5932(1 - 0.5932 ) = 0.2413$')\n",
        "      print('Для последней производной получаем:')\n",
        "      print_formula('$\\\\frac{\\\\partial net_{h1}}{\\\\partial w_1} =\\\\frac{\\\\partial (w_1 * i_1 + w_3 * i_2 + b_1 * 1)}{\\\\partial w_1}= i_1 = 0.05$')\n",
        "      print('Окончательно имеем:')\n",
        "      print_formula('$\\\\frac{\\\\partial E_{total}}{\\\\partial w_{1}} = \\\\frac{\\\\partial E_{total}}{\\\\partial out_{h1}} * \\\\frac{\\\\partial out_{h1}}{\\\\partial net_{h1}} * \\\\frac{\\\\partial net_{h1}}{\\\\partial w_{1}}= 0.0363 * 0.2413 * 0.05 = 0.0004$')\n",
        "      print('Если все выкладки объединить в одну формулу, то получим выражение:')\n",
        "      print_formula('$\\\\frac{\\\\partial E_{total}}{\\\\partial w_{1}} = (\\\\sum_{o}{\\\\frac{\\\\partial E_{total}}{\\\\partial out_{o}} * \\\\frac{\\\\partial out_{o}}{\\\\partial net_{o}} * \\\\frac{\\\\partial net_{o}}{\\\\partial out_{h1}}}) * \\\\frac{\\\\partial out_{h1}}{\\\\partial net_{h1}} * \\\\frac{\\\\partial net_{h1}}{\\\\partial w_{1}}$')\n",
        "      print_formula('$\\\\frac{\\\\partial E_{total}}{\\\\partial w_{1}} = (\\\\sum_{o}{\\\\delta_{o} * w_{ho}}) * out_{h1}(1 - out_{h1}) * i_{1}$')\n",
        "      print_formula('$\\\\frac{\\\\partial E_{total}}{\\\\partial w_{1}} = \\\\delta_{h1}i_{1}$')\n",
        "      \n",
        "    def delta_hiden(count):\n",
        "      '''\n",
        "        Подсчет дельты для внутренних нейронов\n",
        "      '''\n",
        "      res=0\n",
        "      for n_count in range(self.out_shape):\n",
        "        res+=self.ODense_delta[n_count]*self.ODense_wth[n_count][count]\n",
        "      return res*self.Dense1_out[count]*(1-self.Dense1_out[count])\n",
        "    \n",
        "    # Нахождение дельт для всех внутренних нейронов\n",
        "    for n_count in range(self.dense1_shape):\n",
        "      self.Dense1_delta[n_count] = delta_hiden(n_count)\n",
        "      if verbose==1 or verbose==2:\n",
        "        print('delta_h{0}={1}'.format(n_count+1,round(self.Dense1_delta[n_count],4)))\n",
        "    \n",
        "    # Обновление весов нейронов внутреннего слоя\n",
        "    if verbose==2:\n",
        "      print('Обновление веса выполняется по формуле:')\n",
        "      print_formula('$w_1 = w_1 - \\\\eta * \\\\frac{\\\\partial E_{total}}{\\\\partial w_{1}} = w_1 - \\\\eta * \\\\delta_{h1}i_{1}=0.15 - 0.5 * 0.0004 = 0.1497$')\n",
        "\n",
        "    if verbose==1 or verbose==2:\n",
        "      print('Значения обновленных весов:')\n",
        "    for n_count in range(self.dense1_shape):\n",
        "      for w_count in range(self.input_shape):\n",
        "        self.Dense1_wth[n_count][w_count] = self.Dense1_wth[n_count][w_count] - lr*self.Dense1_delta[n_count]*self.IDense_out[w_count]\n",
        "      if verbose==1 or verbose==2:\n",
        "        print(self.Dense1_wth[n_count])\n",
        "    if verbose==1 or verbose==2:\n",
        "      print(\"{:*^60}\".format('*************'))\n",
        "  \n",
        "  #TODO:\n",
        "  #def fit():    \n",
        "  \n",
        "  #TODO:\n",
        "  #def predict()"
      ],
      "execution_count": 0,
      "outputs": []
    },
    {
      "cell_type": "markdown",
      "metadata": {
        "id": "kIh5SzIM1reU",
        "colab_type": "text"
      },
      "source": [
        "# Создание нейронной сети и прямое распространение сигнала по сети"
      ]
    },
    {
      "cell_type": "code",
      "metadata": {
        "id": "F9Yi8h0uAb4W",
        "colab_type": "code",
        "outputId": "4e48eef5-59cc-4ca8-bc13-f36f91acaaa6",
        "colab": {
          "base_uri": "https://localhost:8080/",
          "height": 818
        }
      },
      "source": [
        "# Создаем модель\n",
        "model = simple_NN()\n",
        "model.summary()\n",
        "#model.show_weights()\n",
        "\n",
        "# Делаем прямое распространение\n",
        "x_input=np.array([0.05,0.1])\n",
        "y_ideal=np.array([0.01,0.99])\n",
        "\n",
        "y_output=model.forward_pass(x_input,verbose=2) #verbose=2 для вывода всей промежуточной информации\n",
        "\n",
        "# Подсчитываем значение ошибки\n",
        "print('\\nИтоговое значение ошибки при первом прямом прохождении:')\n",
        "loss_value = model.loss(y_ideal,y_output)\n",
        "print('loss:',round(loss_value,4))\n",
        "\n"
      ],
      "execution_count": 0,
      "outputs": [
        {
          "output_type": "stream",
          "text": [
            "Нейронная сеть с параметрами:\n",
            " 2-входных нейронов\n",
            " 2-нейронов внутреннего слоя\n",
            " 2-нейронов выходного слоя\n",
            "Всего параметров: 10\n",
            "************************forward_pass************************\n",
            "Прямое прохождение сигнала!\n",
            "Пройдем по всем промежуточным значениям сети!\n",
            "1. Находим значения на внутреннем слое.\n",
            "1.1. Вычисляем взвешенное значение для подачи на функцию активации. Формула для первого нейрона:\n"
          ],
          "name": "stdout"
        },
        {
          "output_type": "display_data",
          "data": {
            "image/png": "[encoded data removed]",
            "text/plain": [
              "<Figure size 651.766x22.149 with 1 Axes>"
            ]
          },
          "metadata": {
            "tags": []
          }
        },
        {
          "output_type": "stream",
          "text": [
            "Итоговые значения:\n",
            "net_h1=0.3775\n",
            "net_h2=0.3925\n",
            "1.2. Находим выходные значения каждого нейрона.Формула для первого нейрона: : \n"
          ],
          "name": "stdout"
        },
        {
          "output_type": "display_data",
          "data": {
            "image/png": "[encoded data removed]",
            "text/plain": [
              "<Figure size 312.25x29.43 with 1 Axes>"
            ]
          },
          "metadata": {
            "tags": []
          }
        },
        {
          "output_type": "stream",
          "text": [
            "Итоговые значения:\n",
            "out_h1=0.5933\n",
            "out_h2=0.5969\n",
            "2. Находим значения на выходном слое.\n",
            "2.1. Вычисляем взвешенное значение для подачи на функцию активации. Формула для первого нейрона:\n"
          ],
          "name": "stdout"
        },
        {
          "output_type": "display_data",
          "data": {
            "image/png": "[encoded data removed]",
            "text/plain": [
              "<Figure size 764.48x20.07 with 1 Axes>"
            ]
          },
          "metadata": {
            "tags": []
          }
        },
        {
          "output_type": "stream",
          "text": [
            "Итоговые значения:\n",
            "net_o1=1.1059\n",
            "net_o2=1.2249\n",
            "2.2. Находим выходные значения каждого нейрона. Формула для первого нейрона: : \n"
          ],
          "name": "stdout"
        },
        {
          "output_type": "display_data",
          "data": {
            "image/png": "[encoded data removed]",
            "text/plain": [
              "<Figure size 312.182x29.43 with 1 Axes>"
            ]
          },
          "metadata": {
            "tags": []
          }
        },
        {
          "output_type": "stream",
          "text": [
            "Итоговые значения:\n",
            "out_o1=0.7514\n",
            "out_o2=0.7729\n",
            "************************************************************\n",
            "\n",
            "Итоговое значение ошибки при первом прямом прохождении:\n",
            "loss: 0.2984\n"
          ],
          "name": "stdout"
        }
      ]
    },
    {
      "cell_type": "markdown",
      "metadata": {
        "id": "MHyFDNsE3Tr5",
        "colab_type": "text"
      },
      "source": [
        "# Обратное распространение ошибки\n",
        "Алгоритм обратного распространения ошибки перевзвешивает параметры сети. При этом делает это немного по-разному для весов выходных и внутренних нейронов.\n",
        "\n",
        "Пояснительная картинка для весов выходных нейронов:\n",
        "![alt text](https://matthewmazur.files.wordpress.com/2018/03/output_1_backprop-4.png)\n",
        "\n",
        "Пояснительная картинка для весов внутренних нейронов:\n",
        "\n",
        "![alt text](https://matthewmazur.files.wordpress.com/2015/03/nn-calculation.png)"
      ]
    },
    {
      "cell_type": "code",
      "metadata": {
        "id": "k8OGrD6y3Y84",
        "colab_type": "code",
        "outputId": "6fbd0555-a973-4882-9657-6ce089bfe5c0",
        "colab": {
          "base_uri": "https://localhost:8080/",
          "height": 1000
        }
      },
      "source": [
        "# Обратное распространение ошибки\n",
        "model.backward_pass(x_input,y_ideal,y_output,verbose=2)"
      ],
      "execution_count": 0,
      "outputs": [
        {
          "output_type": "stream",
          "text": [
            "***********************backward_pass************************\n",
            "Обратное распространение ошибки!\n",
            "Пройдем по всем промежуточным значениям в методе обратного распространения!\n",
            "Основная идея метода обратного распространения ошибки заключается в том,\n",
            "что для минимизации значения функции потерь Etotal на обучающей выборке \n",
            "мы рассматриваем функцию многих переменных Etotal(w1,w2,...,w8,b1,b2)\n",
            "и стремимся ее минимизировать уменьшая значения переменных w1,w2,...,w8,b1,b2 на некоторую величину,\n",
            "при этом двигаясь в направлении обратном направлению вектора градиента -\n",
            "вектору, который указывает направление наискорейшего возрастания функции.\n",
            "\n",
            "Промежуточные значения после прямого прохождения у нас сохранены. Также можно найти значение функции Etotal:\n"
          ],
          "name": "stdout"
        },
        {
          "output_type": "display_data",
          "data": {
            "image/png": "[encoded data removed]",
            "text/plain": [
              "<Figure size 1144.41x27.225 with 1 Axes>"
            ]
          },
          "metadata": {
            "tags": []
          }
        },
        {
          "output_type": "stream",
          "text": [
            "\n",
            "1. Пересчет значений весов выходных нейронов. Рассмотрим на примере параметра w5.\n",
            "Применим правило цепочки для вычисления искомого значения частной производной - компоненты вектора градиента, отвечающей за переменную w5:\n"
          ],
          "name": "stdout"
        },
        {
          "output_type": "display_data",
          "data": {
            "image/png": "[encoded data removed]",
            "text/plain": [
              "<Figure size 213.264x31.383 with 1 Axes>"
            ]
          },
          "metadata": {
            "tags": []
          }
        },
        {
          "output_type": "stream",
          "text": [
            "Будем последовательно находить значения каждой производной из произведения:\n"
          ],
          "name": "stdout"
        },
        {
          "output_type": "display_data",
          "data": {
            "image/png": "[encoded data removed]",
            "text/plain": [
              "<Figure size 429.024x27.225 with 1 Axes>"
            ]
          },
          "metadata": {
            "tags": []
          }
        },
        {
          "output_type": "display_data",
          "data": {
            "image/png": "[encoded data removed]",
            "text/plain": [
              "<Figure size 853.887x31.383 with 1 Axes>"
            ]
          },
          "metadata": {
            "tags": []
          }
        },
        {
          "output_type": "stream",
          "text": [
            "Переходим к следующей:\n"
          ],
          "name": "stdout"
        },
        {
          "output_type": "display_data",
          "data": {
            "image/png": "[encoded data removed]",
            "text/plain": [
              "<Figure size 558.981x40.005 with 1 Axes>"
            ]
          },
          "metadata": {
            "tags": []
          }
        },
        {
          "output_type": "stream",
          "text": [
            "Заканчиваем нахождением:\n"
          ],
          "name": "stdout"
        },
        {
          "output_type": "display_data",
          "data": {
            "image/png": "[encoded data removed]",
            "text/plain": [
              "<Figure size 654.08x31.923 with 1 Axes>"
            ]
          },
          "metadata": {
            "tags": []
          }
        },
        {
          "output_type": "stream",
          "text": [
            "Теперь находим искомое значение производной:\n"
          ],
          "name": "stdout"
        },
        {
          "output_type": "display_data",
          "data": {
            "image/png": "[encoded data removed]",
            "text/plain": [
              "<Figure size 541.97x31.383 with 1 Axes>"
            ]
          },
          "metadata": {
            "tags": []
          }
        },
        {
          "output_type": "stream",
          "text": [
            "Если все выкладки объединить в одну формулу, то получим выражение:\n"
          ],
          "name": "stdout"
        },
        {
          "output_type": "display_data",
          "data": {
            "image/png": "[encoded data removed]",
            "text/plain": [
              "<Figure size 138.283x30.753 with 1 Axes>"
            ]
          },
          "metadata": {
            "tags": []
          }
        },
        {
          "output_type": "stream",
          "text": [
            "где для каждого выходного нейрона можно найти\n"
          ],
          "name": "stdout"
        },
        {
          "output_type": "display_data",
          "data": {
            "image/png": "[encoded data removed]",
            "text/plain": [
              "<Figure size 385.047x20.7 with 1 Axes>"
            ]
          },
          "metadata": {
            "tags": []
          }
        },
        {
          "output_type": "stream",
          "text": [
            "delta_o1=0.1385\n",
            "delta_o2=-0.0381\n",
            "Обновление веса выполняется по формуле:\n"
          ],
          "name": "stdout"
        },
        {
          "output_type": "display_data",
          "data": {
            "image/png": "[encoded data removed]",
            "text/plain": [
              "<Figure size 589.366x30.753 with 1 Axes>"
            ]
          },
          "metadata": {
            "tags": []
          }
        },
        {
          "output_type": "stream",
          "text": [
            "Значения обновленных весов:\n",
            "[0.35891648 0.40866619]\n",
            "[0.51130127 0.56137012]\n",
            "\n",
            "2. Пересчет значений весов внутренних нейронов. Рассмотрим на примере параметра w1.\n",
            "Применим правило цепочки для вычисления искомого значения частной производной - компоненты вектора градиента, отвечающей за переменную w1:\n"
          ],
          "name": "stdout"
        },
        {
          "output_type": "display_data",
          "data": {
            "image/png": "[encoded data removed]",
            "text/plain": [
              "<Figure size 213.845x31.383 with 1 Axes>"
            ]
          },
          "metadata": {
            "tags": []
          }
        },
        {
          "output_type": "stream",
          "text": [
            "Будем последовательно находить значения каждой производной из произведения:\n"
          ],
          "name": "stdout"
        },
        {
          "output_type": "display_data",
          "data": {
            "image/png": "[encoded data removed]",
            "text/plain": [
              "<Figure size 166.587x31.383 with 1 Axes>"
            ]
          },
          "metadata": {
            "tags": []
          }
        },
        {
          "output_type": "stream",
          "text": [
            "Найдем первое слагаемое:\n"
          ],
          "name": "stdout"
        },
        {
          "output_type": "display_data",
          "data": {
            "image/png": "[encoded data removed]",
            "text/plain": [
              "<Figure size 160.354x31.383 with 1 Axes>"
            ]
          },
          "metadata": {
            "tags": []
          }
        },
        {
          "output_type": "stream",
          "text": [
            "Ввиду того, что некоторые значения мы уже нашли, то можно вычислить:\n"
          ],
          "name": "stdout"
        },
        {
          "output_type": "display_data",
          "data": {
            "image/png": "[encoded data removed]",
            "text/plain": [
              "<Figure size 410.352x31.383 with 1 Axes>"
            ]
          },
          "metadata": {
            "tags": []
          }
        },
        {
          "output_type": "stream",
          "text": [
            "При этом дело обстоит совсем просто в случае:\n"
          ],
          "name": "stdout"
        },
        {
          "output_type": "display_data",
          "data": {
            "image/png": "[encoded data removed]",
            "text/plain": [
              "<Figure size 373.269x32.553 with 1 Axes>"
            ]
          },
          "metadata": {
            "tags": []
          }
        },
        {
          "output_type": "stream",
          "text": [
            "Таким образом, получаем:\n"
          ],
          "name": "stdout"
        },
        {
          "output_type": "display_data",
          "data": {
            "image/png": "[encoded data removed]",
            "text/plain": [
              "<Figure size 387.426x31.383 with 1 Axes>"
            ]
          },
          "metadata": {
            "tags": []
          }
        },
        {
          "output_type": "stream",
          "text": [
            "Найдя аналогичным образом значение второго слагаемого, будем иметь:\n"
          ],
          "name": "stdout"
        },
        {
          "output_type": "display_data",
          "data": {
            "image/png": "[encoded data removed]",
            "text/plain": [
              "<Figure size 463.098x31.383 with 1 Axes>"
            ]
          },
          "metadata": {
            "tags": []
          }
        },
        {
          "output_type": "stream",
          "text": [
            "Значение второго множителя в искомом произведении производных легко можно получить:\n"
          ],
          "name": "stdout"
        },
        {
          "output_type": "display_data",
          "data": {
            "image/png": "[encoded data removed]",
            "text/plain": [
              "<Figure size 559.599x40.005 with 1 Axes>"
            ]
          },
          "metadata": {
            "tags": []
          }
        },
        {
          "output_type": "stream",
          "text": [
            "Для последней производной получаем:\n"
          ],
          "name": "stdout"
        },
        {
          "output_type": "display_data",
          "data": {
            "image/png": "[encoded data removed]",
            "text/plain": [
              "<Figure size 317.693x31.923 with 1 Axes>"
            ]
          },
          "metadata": {
            "tags": []
          }
        },
        {
          "output_type": "stream",
          "text": [
            "Окончательно имеем:\n"
          ],
          "name": "stdout"
        },
        {
          "output_type": "display_data",
          "data": {
            "image/png": "[encoded data removed]",
            "text/plain": [
              "<Figure size 520.279x31.383 with 1 Axes>"
            ]
          },
          "metadata": {
            "tags": []
          }
        },
        {
          "output_type": "stream",
          "text": [
            "Если все выкладки объединить в одну формулу, то получим выражение:\n"
          ],
          "name": "stdout"
        },
        {
          "output_type": "display_data",
          "data": {
            "image/png": "[encoded data removed]",
            "text/plain": [
              "<Figure size 348.77x38.205 with 1 Axes>"
            ]
          },
          "metadata": {
            "tags": []
          }
        },
        {
          "output_type": "display_data",
          "data": {
            "image/png": "[encoded data removed]",
            "text/plain": [
              "<Figure size 341.183x38.205 with 1 Axes>"
            ]
          },
          "metadata": {
            "tags": []
          }
        },
        {
          "output_type": "display_data",
          "data": {
            "image/png": "[encoded data removed]",
            "text/plain": [
              "<Figure size 100.51x30.753 with 1 Axes>"
            ]
          },
          "metadata": {
            "tags": []
          }
        },
        {
          "output_type": "stream",
          "text": [
            "delta_h1=0.0073\n",
            "delta_h2=0.0085\n",
            "Обновление веса выполняется по формуле:\n"
          ],
          "name": "stdout"
        },
        {
          "output_type": "display_data",
          "data": {
            "image/png": "[encoded data removed]",
            "text/plain": [
              "<Figure size 568.407x30.753 with 1 Axes>"
            ]
          },
          "metadata": {
            "tags": []
          }
        },
        {
          "output_type": "stream",
          "text": [
            "Значения обновленных весов:\n",
            "[0.14981764 0.19963528]\n",
            "[0.24978819 0.29957637]\n",
            "************************************************************\n"
          ],
          "name": "stdout"
        }
      ]
    },
    {
      "cell_type": "markdown",
      "metadata": {
        "id": "315e8q232FPZ",
        "colab_type": "text"
      },
      "source": [
        "# Обучение нейронной сети на нескольких эпохах"
      ]
    },
    {
      "cell_type": "code",
      "metadata": {
        "id": "a6APSvnut7lj",
        "colab_type": "code",
        "outputId": "eff5b80f-0a4f-4991-9975-46c514dfd33f",
        "colab": {
          "base_uri": "https://localhost:8080/",
          "height": 295
        }
      },
      "source": [
        "# Пример обучения сети на нескольких эпохах\n",
        "n_epochs = 250 # количество эпох\n",
        "history_loss = [] # логи функции потерь\n",
        "\n",
        "for epoch in range(n_epochs):\n",
        "  model.backward_pass(x_input,y_ideal,y_output,verbose=0)\n",
        "  y_output=model.forward_pass(x_input,verbose=0)\n",
        "  loss_value = model.loss(y_ideal,y_output)\n",
        "  history_loss.append(loss_value)\n",
        "  #print('epoch:{0} \\t loss:{1}'.format(epoch,round(loss_value,4)))\n",
        "\n",
        "plt.title('Функция потерь')\n",
        "plt.xlabel('epoch')\n",
        "plt.ylabel('loss')\n",
        "plt.plot(history_loss,color='b')\n",
        "plt.show()"
      ],
      "execution_count": 0,
      "outputs": [
        {
          "output_type": "display_data",
          "data": {
            "image/png": "[encoded data removed]",
            "text/plain": [
              "<Figure size 432x288 with 1 Axes>"
            ]
          },
          "metadata": {
            "tags": []
          }
        }
      ]
    },
    {
      "cell_type": "code",
      "metadata": {
        "id": "hNz9ctV8SFo_",
        "colab_type": "code",
        "colab": {}
      },
      "source": [
        ""
      ],
      "execution_count": 0,
      "outputs": []
    }
  ]
}
