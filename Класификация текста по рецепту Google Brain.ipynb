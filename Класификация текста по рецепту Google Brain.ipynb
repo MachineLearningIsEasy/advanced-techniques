{
  "nbformat": 4,
  "nbformat_minor": 0,
  "metadata": {
    "colab": {
      "name": "Класификация текста по рецепту Google.ipynb",
      "version": "0.3.2",
      "provenance": [],
      "collapsed_sections": []
    },
    "kernelspec": {
      "name": "python3",
      "display_name": "Python 3"
    }
  },
  "cells": [
    {
      "cell_type": "markdown",
      "metadata": {
        "id": "mF4o_OoWW4Td",
        "colab_type": "text"
      },
      "source": [
        "# Решение NLP задачи классификации текстов от А до Я \n",
        "\n",
        "---\n",
        "\n",
        "\n",
        "Материалы настоящего блокнота опираются на открытый курс компании Google, доступный по ссылке https://developers.google.com/machine-learning/guides/text-classification/.\n",
        "\n",
        "Рабочий проект для анализа текста: https://github.com/google/eng-edu/tree/master/ml/guides/text_classification/\n",
        "\n",
        "В настоящем блокноте приведено решение задачи бинарной классификации отзывов на фильмы(http://ai.stanford.edu/%7Eamaas/data/sentiment/aclImdb_v1.tar.gz) на позитивные и негативные.\n",
        "\n",
        "Структурно блокнот имеет следующую последовательность тематических блоков:\n",
        "\n",
        "0.    Введение. Постановка задачи.\n",
        "1.   Сбор данных. Рекомендации.\n",
        "2.   Изучение метрических характеристик данных. **Алгоритм действий** по подготовке исходных данных и выбору предсказательной модели.\n",
        "3.   Подготовка исходных данных.\n",
        "4.   Построение, обучение и оценка предсказательной модели.\n",
        "5.   Настройка гиперпараметров.\n",
        "      \n",
        "6.   Заключение.\n",
        "\n"
      ]
    },
    {
      "cell_type": "markdown",
      "metadata": {
        "id": "vsHtV1Ajhb1Y",
        "colab_type": "text"
      },
      "source": [
        "# 0. Введение. Постановка задачи.\n",
        "В настоящем блокноте решается задача бинарной классификации текстов. Стоит задача предсказания интонации текста: позитивная или негативная. Последовательность действий при решении такого рода задач соответствует пунктам 1-5 настоящего блокнота. Схематично можно изобразить порядок действий как \n",
        "\n",
        "![alt text](https://developers.google.com/machine-learning/guides/text-classification/images/Workflow.png)"
      ]
    },
    {
      "cell_type": "markdown",
      "metadata": {
        "id": "vecr1Uqe-2Rv",
        "colab_type": "text"
      },
      "source": [
        "# 1. Сбор данных. Рекомендации\n",
        "\n",
        "Сбор и анализ данных является одним из самых важных и трудоемких этапов. Для отработки навыков работы с текстами можно использовать готовые датасеты, которые уже хорошо обработаны. В рамках реальных задач сбор данных необходимо производить, опираясь на ряд общих рекомендаций:\n",
        "\n",
        "\n",
        "*   Чем больше данных для обучения будет собрано, тем большей обобщающей способностью будет обладать ваша модель\n",
        "*   Объеты каждого класса должны охватывать все многообразие объектов класса, а не быть только его специфически определенным подмножеством\n",
        "*   Количество объектов в каждом классе должно быть сбалансированно. Для балансировки используются методы сэмплирования: искусственное дублирование наблюдений из редкого класса, исключение части наблюдений из популярного класса\n",
        "\n",
        "\n"
      ]
    },
    {
      "cell_type": "markdown",
      "metadata": {
        "id": "kzouQZhIQC-9",
        "colab_type": "text"
      },
      "source": [
        "# 2. Изучение метрических характеристик данных. **Алгоритм действий** по подготовке исходных данных и выбору предсказательной модели."
      ]
    },
    {
      "cell_type": "markdown",
      "metadata": {
        "id": "7cTMYk_4dS_L",
        "colab_type": "text"
      },
      "source": [
        "**Разархивирование исходных данных**"
      ]
    },
    {
      "cell_type": "code",
      "metadata": {
        "id": "_gT2ofe8Wn_t",
        "colab_type": "code",
        "colab": {}
      },
      "source": [
        "# Монтирование диска\n",
        "from google.colab import drive\n",
        "drive.mount('/content/drive')\n",
        "\n",
        "# Разархивирование исходных данных\n",
        "!tar xvzf \".../aclImdb_v1.tar.gz\""
      ],
      "execution_count": 0,
      "outputs": []
    },
    {
      "cell_type": "code",
      "metadata": {
        "id": "4SoBGLwFFKUf",
        "colab_type": "code",
        "outputId": "978cf3e9-5eb1-4626-c7e8-611f8d956ea0",
        "colab": {
          "base_uri": "https://localhost:8080/",
          "height": 35
        }
      },
      "source": [
        "!ls"
      ],
      "execution_count": 0,
      "outputs": [
        {
          "output_type": "stream",
          "text": [
            "aclImdb  drive\tsample_data\n"
          ],
          "name": "stdout"
        }
      ]
    },
    {
      "cell_type": "markdown",
      "metadata": {
        "id": "rzGGwX2cdFhx",
        "colab_type": "text"
      },
      "source": [
        "**Код для формирования обучающего и тестового набора**"
      ]
    },
    {
      "cell_type": "code",
      "metadata": {
        "id": "xkDpYhJIQ7NX",
        "colab_type": "code",
        "colab": {}
      },
      "source": [
        "from __future__ import absolute_import\n",
        "from __future__ import division\n",
        "from __future__ import print_function\n",
        "\n",
        "import os\n",
        "import random\n",
        "\n",
        "import numpy as np\n",
        "import pandas as pd\n",
        "import matplotlib.pyplot as plt\n",
        "\n",
        "from collections import Counter\n",
        "from sklearn.feature_extraction.text import CountVectorizer\n",
        "\n",
        "def load_imdb_sentiment_analysis_dataset(data_path, seed=123):\n",
        "    \"\"\"Loads the IMDb movie reviews sentiment analysis dataset.\n",
        "\n",
        "    # Arguments\n",
        "        data_path: string, path to the data directory.\n",
        "        seed: int, seed for randomizer.\n",
        "\n",
        "    # Returns\n",
        "        A tuple of training and validation data.\n",
        "        Number of training samples: 25000\n",
        "        Number of test samples: 25000\n",
        "        Number of categories: 2 (0 - negative, 1 - positive)\n",
        "\n",
        "    # References\n",
        "        Mass et al., http://www.aclweb.org/anthology/P11-1015\n",
        "\n",
        "        Download and uncompress archive from:\n",
        "        http://ai.stanford.edu/~amaas/data/sentiment/aclImdb_v1.tar.gz\n",
        "    \"\"\"\n",
        "    imdb_data_path = os.path.join(data_path, 'aclImdb')\n",
        "\n",
        "    # Load the training data\n",
        "    train_texts = []\n",
        "    train_labels = []\n",
        "    for category in ['pos', 'neg']:\n",
        "        train_path = os.path.join(imdb_data_path, 'train', category)\n",
        "        for fname in sorted(os.listdir(train_path)):\n",
        "            if fname.endswith('.txt'):\n",
        "                with open(os.path.join(train_path, fname)) as f:\n",
        "                    train_texts.append(f.read())\n",
        "                train_labels.append(0 if category == 'neg' else 1)\n",
        "\n",
        "    # Load the test data.\n",
        "    test_texts = []\n",
        "    test_labels = []\n",
        "    for category in ['pos', 'neg']:\n",
        "        test_path = os.path.join(imdb_data_path, 'test', category)\n",
        "        for fname in sorted(os.listdir(test_path)):\n",
        "            if fname.endswith('.txt'):\n",
        "                with open(os.path.join(test_path, fname)) as f:\n",
        "                    test_texts.append(f.read())\n",
        "                test_labels.append(0 if category == 'neg' else 1)\n",
        "\n",
        "    # Shuffle the training data and labels.\n",
        "    random.seed(seed)\n",
        "    random.shuffle(train_texts)\n",
        "    random.seed(seed)\n",
        "    random.shuffle(train_labels)\n",
        "\n",
        "    return ((train_texts, np.array(train_labels)),\n",
        "            (test_texts, np.array(test_labels)))\n",
        "  \n"
      ],
      "execution_count": 0,
      "outputs": []
    },
    {
      "cell_type": "markdown",
      "metadata": {
        "id": "EdDuVhsM40KU",
        "colab_type": "text"
      },
      "source": [
        "**Формирование исходных данных**"
      ]
    },
    {
      "cell_type": "code",
      "metadata": {
        "id": "sfCmeFMsRO62",
        "colab_type": "code",
        "colab": {}
      },
      "source": [
        "(x_train, y_train),(x_test, y_test) = load_imdb_sentiment_analysis_dataset(\"\", seed=123)"
      ],
      "execution_count": 0,
      "outputs": []
    },
    {
      "cell_type": "markdown",
      "metadata": {
        "id": "_tffsdXKe6jV",
        "colab_type": "text"
      },
      "source": [
        "**Код полученияе метрических характеристик данных**"
      ]
    },
    {
      "cell_type": "code",
      "metadata": {
        "colab_type": "code",
        "id": "Q8LXDV5HkOk-",
        "colab": {}
      },
      "source": [
        "def get_num_classes(labels):\n",
        "    \"\"\"Gets the total number of classes.\n",
        "    # Arguments\n",
        "        labels: list, label values.\n",
        "            There should be at lease one sample for values in the\n",
        "            range (0, num_classes -1)\n",
        "    # Returns\n",
        "        int, total number of classes.\n",
        "    # Raises\n",
        "        ValueError: if any label value in the range(0, num_classes - 1)\n",
        "            is missing or if number of classes is <= 1.\n",
        "    \"\"\"\n",
        "    num_classes = max(labels) + 1\n",
        "    missing_classes = [i for i in range(num_classes) if i not in labels]\n",
        "    if len(missing_classes):\n",
        "        raise ValueError('Missing samples with label value(s) '\n",
        "                         '{missing_classes}. Please make sure you have '\n",
        "                         'at least one sample for every label value '\n",
        "                         'in the range(0, {max_class})'.format(\n",
        "                            missing_classes=missing_classes,\n",
        "                            max_class=num_classes - 1))\n",
        "\n",
        "    if num_classes <= 1:\n",
        "        raise ValueError('Invalid number of labels: {num_classes}.'\n",
        "                         'Please make sure there are at least two classes '\n",
        "                         'of samples'.format(num_classes=num_classes))\n",
        "    return num_classes\n",
        "\n",
        "\n",
        "def get_num_words_per_sample(sample_texts):\n",
        "    \"\"\"Gets the median number of words per sample given corpus.\n",
        "    # Arguments\n",
        "        sample_texts: list, sample texts.\n",
        "    # Returns\n",
        "        int, median number of words per sample.\n",
        "    \"\"\"\n",
        "    num_words = [len(s.split()) for s in sample_texts]\n",
        "    return np.median(num_words)\n",
        "\n",
        "\n",
        "def plot_frequency_distribution_of_ngrams(sample_texts,\n",
        "                                          ngram_range=(1, 1),\n",
        "                                          num_ngrams=50):\n",
        "    \"\"\"Plots the frequency distribution of n-grams.\n",
        "    # Arguments\n",
        "        samples_texts: list, sample texts.\n",
        "        ngram_range: tuple (min, mplt), The range of n-gram values to consider.\n",
        "            Min and mplt are the lower and upper bound values for the range.\n",
        "        num_ngrams: int, number of n-grams to plot.\n",
        "            Top `num_ngrams` frequent n-grams will be plotted.\n",
        "    \"\"\"\n",
        "    # Create args required for vectorizing.\n",
        "    kwargs = {\n",
        "            'ngram_range': ngram_range,\n",
        "            'dtype': 'int32',\n",
        "            'strip_accents': 'unicode',\n",
        "            'decode_error': 'replace',\n",
        "            'analyzer': 'word',  # Split text into word tokens.\n",
        "    }\n",
        "    vectorizer = CountVectorizer(**kwargs)\n",
        "\n",
        "    # This creates a vocabulary (dict, where keys are n-grams and values are\n",
        "    # idxices). This also converts every text to an array the length of\n",
        "    # vocabulary, where every element idxicates the count of the n-gram\n",
        "    # corresponding at that idxex in vocabulary.\n",
        "    vectorized_texts = vectorizer.fit_transform(sample_texts)\n",
        "\n",
        "    # This is the list of all n-grams in the index order from the vocabulary.\n",
        "    all_ngrams = list(vectorizer.get_feature_names())\n",
        "    num_ngrams = min(num_ngrams, len(all_ngrams))\n",
        "    # ngrams = all_ngrams[:num_ngrams]\n",
        "\n",
        "    # Add up the counts per n-gram ie. column-wise\n",
        "    all_counts = vectorized_texts.sum(axis=0).tolist()[0]\n",
        "\n",
        "    # Sort n-grams and counts by frequency and get top `num_ngrams` ngrams.\n",
        "    all_counts, all_ngrams = zip(*[(c, n) for c, n in sorted(\n",
        "        zip(all_counts, all_ngrams), reverse=True)])\n",
        "    ngrams = list(all_ngrams)[:num_ngrams]\n",
        "    counts = list(all_counts)[:num_ngrams]\n",
        "\n",
        "    idx = np.arange(num_ngrams)\n",
        "    plt.bar(idx, counts, width=0.8, color='b')\n",
        "    plt.xlabel('N-grams')\n",
        "    plt.ylabel('Frequencies')\n",
        "    plt.title('Frequency distribution of n-grams')\n",
        "    plt.xticks(idx, ngrams, rotation=45)\n",
        "    plt.show()\n",
        "\n",
        "\n",
        "def plot_sample_length_distribution(sample_texts):\n",
        "    \"\"\"Plots the sample length distribution.\n",
        "    # Arguments\n",
        "        samples_texts: list, sample texts.\n",
        "    \"\"\"\n",
        "    plt.hist([len(s) for s in sample_texts], 50)\n",
        "    plt.xlabel('Length of a sample')\n",
        "    plt.ylabel('Number of samples')\n",
        "    plt.title('Sample length distribution')\n",
        "    plt.show()\n",
        "\n",
        "\n",
        "def plot_class_distribution(labels):\n",
        "    \"\"\"Plots the class distribution.\n",
        "    # Arguments\n",
        "        labels: list, label values.\n",
        "            There should be at lease one sample for values in the\n",
        "            range (0, num_classes -1)\n",
        "    \"\"\"\n",
        "    num_classes = get_num_classes(labels)\n",
        "    count_map = Counter(labels)\n",
        "    counts = [count_map[i] for i in range(num_classes)]\n",
        "    idx = np.arange(num_classes)\n",
        "    plt.bar(idx, counts, width=0.8, color='b')\n",
        "    plt.xlabel('Class')\n",
        "    plt.ylabel('Number of samples')\n",
        "    plt.title('Class distribution')\n",
        "    plt.xticks(idx, idx)\n",
        "plt.show()"
      ],
      "execution_count": 0,
      "outputs": []
    },
    {
      "cell_type": "markdown",
      "metadata": {
        "id": "-bmw5jXu48ur",
        "colab_type": "text"
      },
      "source": [
        "**Анализ исходных данных**"
      ]
    },
    {
      "cell_type": "code",
      "metadata": {
        "id": "0aclGmDPfEkm",
        "colab_type": "code",
        "outputId": "992a0d86-fae2-4935-ed60-c4908f902a80",
        "colab": {
          "base_uri": "https://localhost:8080/",
          "height": 870
        }
      },
      "source": [
        "# Количество классов\n",
        "num_classes = get_num_classes(y_train)\n",
        "\n",
        "# Медианное значение количества слов на один объект(в данном случае Твит)\n",
        "num_words_per_sample = get_num_words_per_sample(x_train)\n",
        "\n",
        "# Распределение n-грамм по частоте встречаемости\n",
        "plot_frequency_distribution_of_ngrams(x_train)\n",
        "\n",
        "# Распределение количества символов в одном объекте\n",
        "plot_sample_length_distribution(x_train)\n",
        "\n",
        "# Распределение количества элементов каждого класса\n",
        "plot_class_distribution(y_train)"
      ],
      "execution_count": 0,
      "outputs": [
        {
          "output_type": "display_data",
          "data": {
            "image/png": "[encoded data removed]",
            "text/plain": [
              "<Figure size 432x288 with 1 Axes>"
            ]
          },
          "metadata": {
            "tags": []
          }
        },
        {
          "output_type": "display_data",
          "data": {
            "image/png": "[encoded data removed]",
            "text/plain": [
              "<Figure size 432x288 with 1 Axes>"
            ]
          },
          "metadata": {
            "tags": []
          }
        },
        {
          "output_type": "display_data",
          "data": {
            "image/png": "[encoded data removed]",
            "text/plain": [
              "<Figure size 432x288 with 1 Axes>"
            ]
          },
          "metadata": {
            "tags": []
          }
        }
      ]
    },
    {
      "cell_type": "markdown",
      "metadata": {
        "id": "75THeUAdVAAz",
        "colab_type": "text"
      },
      "source": [
        "# Алгоритм предобработки данных и выбора модели\n",
        "Изображение алгоритма в виде блок-схемы:\n",
        "![alt text](https://developers.google.com/machine-learning/guides/text-classification/images/TextClassificationFlowchart.png)\n",
        "\n",
        "\n",
        "\n",
        "> **Алгоритм**\n",
        "\n",
        "\n",
        "\n",
        "1.    Подсчитывается отношение числа объектов в выборке(количество твитов) к медианному значению количества слов на один объект(число слов в одном твите).\n",
        "2.    Если полученное отношение меньше , чем магическое число 1500, то выполняется движение по левой ветке алгоритма, то есть объекты разбиваются на n-граммы слов, токенизируются и ограничываются  20000 наиболее значимых значений, после чего применяется полносвязная нейронная сеть.\n",
        "    \n",
        "      2.1.   Слова разбиваются на n-граммы. После n-граммы представляются в виде векторов с использованием либо бинарного представления, либо частотного, либо с использованием  параметра tf-idf(частоты встречаемости характерных классу слов - общие слова для всех классов имеют низкий показатель)\n",
        "      \n",
        "      2.2.   Выбираются наиболее значимые для классификации n-граммы с использованием статистических показателей(корелляция каждого параметра со значением класса).\n",
        "      \n",
        "      2.3.   Данные нормализуются и идут на вход полносвязной нейронной сети.\n",
        "\n",
        "3.   Если полученное отношение больше 1500, то выполняется правая ветка алгоритма, то есть тексты векторизуются и применяется сверточная нейронная сеть sepCNN.\n",
        "    \n",
        "      3.1.   Текст разбивается на слова. Выбирается 20000 наиболее часто встречаемых слов.\n",
        "      \n",
        "      3.2.   Объекты представляются в виде векторов последовательностей слов.\n",
        "      \n",
        "      3.3.   Если полученное на шаге 1 отношение меньше 15000, то выполняется предобученный embedding  и используется sepCNN.\n",
        "\n",
        "4.   На последнем этапе подбираются оптимальные гиперпараметры используемых моделей.\n",
        "\n",
        "\n",
        "Замечание. Зеленым цветом отмечены рекомендуемые шаги выполнения алгоритма, но всегда стоит попробовать повыбирать альтернативные варианты для шагов, отмеченные серым цветом,  например, использовать посимвольный анализ текста вместо анализа по словам. Стоит учитывать, что полносвязной и сверточной архитектурой в рамках конкретной задачи ограничиваться тоже не стоит!\n",
        "\n",
        "\n"
      ]
    },
    {
      "cell_type": "markdown",
      "metadata": {
        "id": "fwhlAeqWsrAz",
        "colab_type": "text"
      },
      "source": [
        "# 3. Подготовка исходных данных.\n",
        "\n",
        "Исходные данные - текстовая информация - необходимо представить на понятном машине языке, то есть преобразовать в последовательности чисел. Процесс преобразования строится в 2 этапа: **токенизация** и **векторизация**. \n",
        "\n",
        "В **алгоритме**, представленном в предыдушем параграфе существенным является то, что модели, которые используются для обработки данных согласно левой ветви, не используют информацию о порядке слов в исходных тестах, в отличие от моделей, лежащих в правой ветви. Если также обратить внимание на используемые в алгоритме модели, то сама их природа подсказывает **необходимость в разных подходах к представлению данных**, которые идут им на вход. \n",
        "\n",
        "*Пример токенизации и векторизации в случае алгоритмов левой ветви*:\n",
        "\n",
        "Исходный текст: 'The mouse ran up the clock'\n",
        "\n",
        "n-граммы: ['the', 'mouse', 'ran', 'up', 'clock'], ['the mouse', 'mouse ran', 'ran up', 'up the', 'the clock', ... ]\n",
        "\n",
        "Токены: {'the': 7, 'mouse': 2, 'ran': 4, 'up': 10,  'clock': 0, 'the mouse': 9, 'mouse ran': 3, 'ran up': 6, 'up the': 11, 'the clock': 8, 'down': 1, 'ran down': 5}\n",
        "\n",
        "Векторизация one-hot-encoding: 'The mouse ran up the clock' = [1, 0, 1, 1, 1, 0, 1, 1, 1, 1, 1, 1]\n",
        "\n",
        "Векторизация сount encoding: 'The mouse ran up the clock' = [1, 0, 1, 1, 1, 0, 1, 2, 1, 1, 1, 1]\n",
        "\n",
        "Векторизация Tf-Idf: 'The mouse ran up the clock' = [0.33, 0, 0.23, 0.23, 0.23, 0, 0.33, 0.47, 0.33,\n",
        "0.23, 0.33, 0.33]\n",
        "\n",
        "Этап отбора самых значимых токенов осуществляется с использованием различных статистик, которые можно найти здесь https://scikit-learn.org/0.21/modules/feature_selection.html#univariate-feature-selection\n",
        "\n",
        "*Пример токенизации и векторизации в случае алгоритмов правой ветви*:\n",
        "\n",
        "Исходные тексты: 'The mouse ran up the clock' and 'The mouse ran down'\n",
        "\n",
        "Токенизация на основе частоты встречаимости: {'clock': 5, 'ran': 3, 'up': 4, 'down': 6, 'the': 1, 'mouse': 2}. \n",
        "\n",
        "Токены (0 - зарезервирован для неизвестных токенов): 'The mouse ran up the clock' = [1, 2, 3, 4, 1, 5]\n",
        "\n",
        "Векторизация one-hot-encoding: \n",
        "\n",
        "'The mouse ran up the clock' = [\n",
        "  \n",
        "  [0, 1, 0, 0, 0, 0, 0],\n",
        "  \n",
        "  [0, 0, 1, 0, 0, 0, 0],\n",
        "  \n",
        "  [0, 0, 0, 1, 0, 0, 0],\n",
        "  \n",
        "  [0, 0, 0, 0, 1, 0, 0],\n",
        "  \n",
        "  [0, 1, 0, 0, 0, 0, 0],\n",
        "  \n",
        "  [0, 0, 0, 0, 0, 1, 0]\n",
        "]\n",
        "\n",
        "Векторизация word embeddings:\n",
        "\n",
        "![alt text](https://developers.google.com/machine-learning/guides/text-classification/images/EmbeddingLayer.png)\n",
        "\n",
        "Этап отбора самых значимых токенов - выбор наиболее часто встречаемых слов."
      ]
    },
    {
      "cell_type": "markdown",
      "metadata": {
        "id": "FJg2w4yx4Pg8",
        "colab_type": "text"
      },
      "source": [
        "**Код для токенизации и векторизации данных, идущих по левой ветви алгоритма**"
      ]
    },
    {
      "cell_type": "code",
      "metadata": {
        "id": "2UFEkedfQ4Uf",
        "colab_type": "code",
        "colab": {}
      },
      "source": [
        "\n",
        "from sklearn.feature_extraction.text import TfidfVectorizer\n",
        "from sklearn.feature_selection import SelectKBest\n",
        "from sklearn.feature_selection import f_classif\n",
        "\n",
        "# Vectorization parameters\n",
        "# Range (inclusive) of n-gram sizes for tokenizing text.\n",
        "NGRAM_RANGE = (1, 2)\n",
        "\n",
        "# Limit on the number of features. We use the top 20K features.\n",
        "TOP_K = 20000\n",
        "\n",
        "# Whether text should be split into word or character n-grams.\n",
        "# One of 'word', 'char'.\n",
        "TOKEN_MODE = 'word'\n",
        "\n",
        "# Minimum document/corpus frequency below which a token will be discarded.\n",
        "MIN_DOCUMENT_FREQUENCY = 2\n",
        "\n",
        "def ngram_vectorize(train_texts, train_labels, val_texts):\n",
        "    \"\"\"Vectorizes texts as n-gram vectors.\n",
        "\n",
        "    1 text = 1 tf-idf vector the length of vocabulary of unigrams + bigrams.\n",
        "\n",
        "    # Arguments\n",
        "        train_texts: list, training text strings.\n",
        "        train_labels: np.ndarray, training labels.\n",
        "        val_texts: list, validation text strings.\n",
        "\n",
        "    # Returns\n",
        "        x_train, x_val: vectorized training and validation texts\n",
        "    \"\"\"\n",
        "    # Create keyword arguments to pass to the 'tf-idf' vectorizer.\n",
        "    kwargs = {\n",
        "            'ngram_range': NGRAM_RANGE,  # Use 1-grams + 2-grams.\n",
        "            'dtype': 'int32',\n",
        "            'strip_accents': 'unicode',\n",
        "            'decode_error': 'replace',\n",
        "            'analyzer': TOKEN_MODE,  # Split text into word tokens.\n",
        "            'min_df': MIN_DOCUMENT_FREQUENCY,\n",
        "    }\n",
        "    vectorizer = TfidfVectorizer(**kwargs)\n",
        "\n",
        "    # Learn vocabulary from training texts and vectorize training texts.\n",
        "    x_train = vectorizer.fit_transform(train_texts)\n",
        "\n",
        "    # Vectorize validation texts.\n",
        "    x_val = vectorizer.transform(val_texts)\n",
        "\n",
        "    # Select top 'k' of the vectorized features.\n",
        "    selector = SelectKBest(f_classif, k=min(TOP_K, x_train.shape[1]))\n",
        "    selector.fit(x_train, train_labels)\n",
        "    x_train = selector.transform(x_train).astype('float32')\n",
        "    x_val = selector.transform(x_val).astype('float32')\n",
        "    return x_train, x_val\n",
        "\n"
      ],
      "execution_count": 0,
      "outputs": []
    },
    {
      "cell_type": "markdown",
      "metadata": {
        "id": "kJsr2sIE4e9q",
        "colab_type": "text"
      },
      "source": [
        "**Код для токенизации и векторизации данных, идущих по правой ветви алгоритма**"
      ]
    },
    {
      "cell_type": "code",
      "metadata": {
        "id": "bWH5Cz2t3y1p",
        "colab_type": "code",
        "colab": {}
      },
      "source": [
        "###############################################################################  \n",
        "###############################################################################\n",
        "# Данная часть кода относится к правой ветви алгоритма. \n",
        "#                              Не используется!\n",
        "###############################################################################  \n",
        "###############################################################################  \n",
        "\n",
        "from tensorflow.python.keras.preprocessing import sequence\n",
        "from tensorflow.python.keras.preprocessing import text\n",
        "\n",
        "# Vectorization parameters\n",
        "# Limit on the number of features. We use the top 20K features.\n",
        "TOP_K = 20000\n",
        "\n",
        "# Limit on the length of text sequences. Sequences longer than this\n",
        "# will be truncated.\n",
        "MAX_SEQUENCE_LENGTH = 500\n",
        "\n",
        "\n",
        "def sequence_vectorize(train_texts, val_texts):\n",
        "    \"\"\"Vectorizes texts as sequence vectors.\n",
        "\n",
        "    1 text = 1 sequence vector with fixed length.\n",
        "\n",
        "    # Arguments\n",
        "        train_texts: list, training text strings.\n",
        "        val_texts: list, validation text strings.\n",
        "\n",
        "    # Returns\n",
        "        x_train, x_val, word_index: vectorized training and validation\n",
        "            texts and word index dictionary.\n",
        "    \"\"\"\n",
        "    # Create vocabulary with training texts.\n",
        "    tokenizer = text.Tokenizer(num_words=TOP_K)\n",
        "    tokenizer.fit_on_texts(train_texts)\n",
        "\n",
        "    # Vectorize training and validation texts.\n",
        "    x_train = tokenizer.texts_to_sequences(train_texts)\n",
        "    x_val = tokenizer.texts_to_sequences(val_texts)\n",
        "\n",
        "    # Get max sequence length.\n",
        "    max_length = len(max(x_train, key=len))\n",
        "    if max_length > MAX_SEQUENCE_LENGTH:\n",
        "        max_length = MAX_SEQUENCE_LENGTH\n",
        "\n",
        "    # Fix sequence length to max value. Sequences shorter than the length are\n",
        "    # padded in the beginning and sequences longer are truncated\n",
        "    # at the beginning.\n",
        "    x_train = sequence.pad_sequences(x_train, maxlen=max_length)\n",
        "    x_val = sequence.pad_sequences(x_val, maxlen=max_length)\n",
        "    return x_train, x_val, tokenizer.word_index\n",
        "###############################################################################  \n",
        "###############################################################################\n",
        "# Данная часть кода относится к правой ветви алгоритма. \n",
        "#                              Не используется!\n",
        "###############################################################################  \n",
        "###############################################################################  \n"
      ],
      "execution_count": 0,
      "outputs": []
    },
    {
      "cell_type": "markdown",
      "metadata": {
        "id": "Sr1VpzmR4qOO",
        "colab_type": "text"
      },
      "source": [
        "**Применение алгоритма к задаче классификации отзывов Imdb по интонации**"
      ]
    },
    {
      "cell_type": "code",
      "metadata": {
        "id": "5YLS73fo5Wz4",
        "colab_type": "code",
        "outputId": "a7c875f1-361c-49b5-aa2b-441aba271dcc",
        "colab": {
          "base_uri": "https://localhost:8080/",
          "height": 35
        }
      },
      "source": [
        "# Подсчет основного отношения, определяющего ход алгоритма \n",
        "COMMON_RATIO = len(x_train)/num_words_per_sample\n",
        "print(int(COMMON_RATIO))"
      ],
      "execution_count": 0,
      "outputs": [
        {
          "output_type": "stream",
          "text": [
            "143\n"
          ],
          "name": "stdout"
        }
      ]
    },
    {
      "cell_type": "code",
      "metadata": {
        "id": "dOQlH8mZ5nVW",
        "colab_type": "code",
        "outputId": "3ef153b5-7dc3-43b1-826d-35e81b781371",
        "colab": {
          "base_uri": "https://localhost:8080/",
          "height": 74
        }
      },
      "source": [
        "# Так как 143 < 1500, то идем по левой ветви алгоритма\n",
        "x_train_vec, x_test_vec = ngram_vectorize(x_train,y_train, x_test)"
      ],
      "execution_count": 0,
      "outputs": [
        {
          "output_type": "stream",
          "text": [
            "/usr/local/lib/python3.6/dist-packages/sklearn/feature_extraction/text.py:1616: UserWarning: Only (<class 'numpy.float64'>, <class 'numpy.float32'>, <class 'numpy.float16'>) 'dtype' should be used. int32 'dtype' will be converted to np.float64.\n",
            "  UserWarning)\n"
          ],
          "name": "stderr"
        }
      ]
    },
    {
      "cell_type": "markdown",
      "metadata": {
        "id": "dD7QT08U7d8S",
        "colab_type": "text"
      },
      "source": [
        "# 4. Построение, обучение и оценка предсказательной модели."
      ]
    },
    {
      "cell_type": "markdown",
      "metadata": {
        "id": "FgB8_wvQKvGM",
        "colab_type": "text"
      },
      "source": [
        "**Код построения модели**"
      ]
    },
    {
      "cell_type": "code",
      "metadata": {
        "id": "6_VJfNih6_K9",
        "colab_type": "code",
        "colab": {}
      },
      "source": [
        "# Данные функции являются реализациями популярных моделей каждой ветви алгоритма\n",
        "from tensorflow.python.keras import models\n",
        "from tensorflow.python.keras.layers import Dense\n",
        "from tensorflow.python.keras.layers import Dropout\n",
        "\n",
        "def _get_last_layer_units_and_activation(num_classes):\n",
        "    \"\"\"Gets the # units and activation function for the last network layer.\n",
        "\n",
        "    # Arguments\n",
        "        num_classes: int, number of classes.\n",
        "\n",
        "    # Returns\n",
        "        units, activation values.\n",
        "    \"\"\"\n",
        "    if num_classes == 2:\n",
        "        activation = 'sigmoid'\n",
        "        units = 1\n",
        "    else:\n",
        "        activation = 'softmax'\n",
        "        units = num_classes\n",
        "    return units, activation\n",
        "\n",
        "def mlp_model(layers, units, dropout_rate, input_shape, num_classes):\n",
        "    \"\"\"Creates an instance of a multi-layer perceptron model.\n",
        "\n",
        "    # Arguments\n",
        "        layers: int, number of `Dense` layers in the model.\n",
        "        units: int, output dimension of the layers.\n",
        "        dropout_rate: float, percentage of input to drop at Dropout layers.\n",
        "        input_shape: tuple, shape of input to the model.\n",
        "        num_classes: int, number of output classes.\n",
        "\n",
        "    # Returns\n",
        "        An MLP model instance.\n",
        "    \"\"\"\n",
        "    op_units, op_activation = _get_last_layer_units_and_activation(num_classes)\n",
        "    model = models.Sequential()\n",
        "    model.add(Dropout(rate=dropout_rate, input_shape=input_shape))\n",
        "\n",
        "    for _ in range(layers-1):\n",
        "        model.add(Dense(units=units, activation='relu'))\n",
        "        model.add(Dropout(rate=dropout_rate))\n",
        "\n",
        "    model.add(Dense(units=op_units, activation=op_activation))\n",
        "    return model\n",
        "\n",
        "  \n",
        "###############################################################################  \n",
        "###############################################################################\n",
        "# Данная часть кода относится к sepCNN - модели правой ветви алгоритма. \n",
        "#                              Не используется!\n",
        "###############################################################################  \n",
        "###############################################################################  \n",
        "from tensorflow.python.keras import models\n",
        "from tensorflow.python.keras import initializers\n",
        "from tensorflow.python.keras import regularizers\n",
        "\n",
        "from tensorflow.python.keras.layers import Dense\n",
        "from tensorflow.python.keras.layers import Dropout\n",
        "from tensorflow.python.keras.layers import Embedding\n",
        "from tensorflow.python.keras.layers import SeparableConv1D\n",
        "from tensorflow.python.keras.layers import MaxPooling1D\n",
        "from tensorflow.python.keras.layers import GlobalAveragePooling1D\n",
        "\n",
        "from tensorflow.keras.optimizers import Adam\n",
        "\n",
        "from tensorflow.keras.callbacks import EarlyStopping\n",
        "\n",
        "def sepcnn_model(blocks,\n",
        "                 filters,\n",
        "                 kernel_size,\n",
        "                 embedding_dim,\n",
        "                 dropout_rate,\n",
        "                 pool_size,\n",
        "                 input_shape,\n",
        "                 num_classes,\n",
        "                 num_features,\n",
        "                 use_pretrained_embedding=False,\n",
        "                 is_embedding_trainable=False,\n",
        "                 embedding_matrix=None):\n",
        "    \"\"\"Creates an instance of a separable CNN model.\n",
        "\n",
        "    # Arguments\n",
        "        blocks: int, number of pairs of sepCNN and pooling blocks in the model.\n",
        "        filters: int, output dimension of the layers.\n",
        "        kernel_size: int, length of the convolution window.\n",
        "        embedding_dim: int, dimension of the embedding vectors.\n",
        "        dropout_rate: float, percentage of input to drop at Dropout layers.\n",
        "        pool_size: int, factor by which to downscale input at MaxPooling layer.\n",
        "        input_shape: tuple, shape of input to the model.\n",
        "        num_classes: int, number of output classes.\n",
        "        num_features: int, number of words (embedding input dimension).\n",
        "        use_pretrained_embedding: bool, true if pre-trained embedding is on.\n",
        "        is_embedding_trainable: bool, true if embedding layer is trainable.\n",
        "        embedding_matrix: dict, dictionary with embedding coefficients.\n",
        "\n",
        "    # Returns\n",
        "        A sepCNN model instance.\n",
        "    \"\"\"\n",
        "    op_units, op_activation = _get_last_layer_units_and_activation(num_classes)\n",
        "    model = models.Sequential()\n",
        "\n",
        "    # Add embedding layer. If pre-trained embedding is used add weights to the\n",
        "    # embeddings layer and set trainable to input is_embedding_trainable flag.\n",
        "    if use_pretrained_embedding:\n",
        "        model.add(Embedding(input_dim=num_features,\n",
        "                            output_dim=embedding_dim,\n",
        "                            input_length=input_shape[0],\n",
        "                            weights=[embedding_matrix],\n",
        "                            trainable=is_embedding_trainable))\n",
        "    else:\n",
        "        model.add(Embedding(input_dim=num_features,\n",
        "                            output_dim=embedding_dim,\n",
        "                            input_length=input_shape[0]))\n",
        "\n",
        "    for _ in range(blocks-1):\n",
        "        model.add(Dropout(rate=dropout_rate))\n",
        "        model.add(SeparableConv1D(filters=filters,\n",
        "                                  kernel_size=kernel_size,\n",
        "                                  activation='relu',\n",
        "                                  bias_initializer='random_uniform',\n",
        "                                  depthwise_initializer='random_uniform',\n",
        "                                  padding='same'))\n",
        "        model.add(SeparableConv1D(filters=filters,\n",
        "                                  kernel_size=kernel_size,\n",
        "                                  activation='relu',\n",
        "                                  bias_initializer='random_uniform',\n",
        "                                  depthwise_initializer='random_uniform',\n",
        "                                  padding='same'))\n",
        "        model.add(MaxPooling1D(pool_size=pool_size))\n",
        "\n",
        "    model.add(SeparableConv1D(filters=filters * 2,\n",
        "                              kernel_size=kernel_size,\n",
        "                              activation='relu',\n",
        "                              bias_initializer='random_uniform',\n",
        "                              depthwise_initializer='random_uniform',\n",
        "                              padding='same'))\n",
        "    model.add(SeparableConv1D(filters=filters * 2,\n",
        "                              kernel_size=kernel_size,\n",
        "                              activation='relu',\n",
        "                              bias_initializer='random_uniform',\n",
        "                              depthwise_initializer='random_uniform',\n",
        "                              padding='same'))\n",
        "    model.add(GlobalAveragePooling1D())\n",
        "    model.add(Dropout(rate=dropout_rate))\n",
        "    model.add(Dense(op_units, activation=op_activation))\n",
        "    return model\n",
        "###############################################################################  \n",
        "###############################################################################\n",
        "# Данная часть кода относится к sepCNN - модели правой ветви алгоритма. \n",
        "#                              Не используется!\n",
        "###############################################################################  \n",
        "###############################################################################  \n"
      ],
      "execution_count": 0,
      "outputs": []
    },
    {
      "cell_type": "markdown",
      "metadata": {
        "id": "SlmGUMzd8T0i",
        "colab_type": "text"
      },
      "source": [
        "**Код создания сети и обучения на подготовленных данных**"
      ]
    },
    {
      "cell_type": "code",
      "metadata": {
        "id": "VyheYJkm73wr",
        "colab_type": "code",
        "colab": {}
      },
      "source": [
        "# Данная функция создает и обучает модель\n",
        "def train_ngram_model(data,\n",
        "                      learning_rate=1e-3,\n",
        "                      epochs=5,\n",
        "                      batch_size=128,\n",
        "                      layers=2,\n",
        "                      units=64,\n",
        "                      dropout_rate=0.2):\n",
        "    \"\"\"Trains n-gram model on the given dataset.\n",
        "\n",
        "    # Arguments\n",
        "        data: tuples of training and test texts and labels.\n",
        "        learning_rate: float, learning rate for training model.\n",
        "        epochs: int, number of epochs.\n",
        "        batch_size: int, number of samples per batch.\n",
        "        layers: int, number of `Dense` layers in the model.\n",
        "        units: int, output dimension of Dense layers in the model.\n",
        "        dropout_rate: float: percentage of input to drop at Dropout layers.\n",
        "\n",
        "    # Raises\n",
        "        ValueError: If validation data has label values which were not seen\n",
        "            in the training data.\n",
        "    \"\"\"\n",
        "    # Get the data.\n",
        "    (train_texts, train_labels), (val_texts, val_labels) = data\n",
        "\n",
        "    # Verify that validation labels are in the same range as training labels.\n",
        "    num_classes = get_num_classes(train_labels)\n",
        "    unexpected_labels = [v for v in val_labels if v not in range(num_classes)]\n",
        "    if len(unexpected_labels):\n",
        "        raise ValueError('Unexpected label values found in the validation set:'\n",
        "                         ' {unexpected_labels}. Please make sure that the '\n",
        "                         'labels in the validation set are in the same range '\n",
        "                         'as training labels.'.format(\n",
        "                             unexpected_labels=unexpected_labels))\n",
        "\n",
        "    # Not Vectorize texts !!!\n",
        "    x_train, x_val = train_texts, val_texts #ngram_vectorize(train_texts, train_labels, val_texts)\n",
        "\n",
        "    # Create model instance.\n",
        "    model = mlp_model(layers=layers,\n",
        "                                  units=units,\n",
        "                                  dropout_rate=dropout_rate,\n",
        "                                  input_shape=x_train.shape[1:],\n",
        "                                  num_classes=num_classes)\n",
        "\n",
        "    # Compile model with learning parameters.\n",
        "    if num_classes == 2:\n",
        "        loss = 'binary_crossentropy'\n",
        "    else:\n",
        "        loss = 'sparse_categorical_crossentropy'\n",
        "    optimizer = Adam(lr=learning_rate)\n",
        "    model.compile(optimizer=optimizer, loss=loss, metrics=['acc'])\n",
        "\n",
        "    # Create callback for early stopping on validation loss. If the loss does\n",
        "    # not decrease in two consecutive tries, stop training.\n",
        "    callbacks = [EarlyStopping(\n",
        "        monitor='val_loss', patience=2)]\n",
        "\n",
        "    # Train and validate model.\n",
        "    history = model.fit(\n",
        "            x_train,\n",
        "            train_labels,\n",
        "            epochs=epochs,\n",
        "            callbacks=callbacks,\n",
        "            validation_data=(x_val, val_labels),\n",
        "            verbose=2,  # Logs once per epoch.\n",
        "            batch_size=batch_size)\n",
        "\n",
        "    # Print results.\n",
        "    history = history.history\n",
        "    print('Validation accuracy: {acc}, loss: {loss}'.format(\n",
        "            acc=history['val_acc'][-1], loss=history['val_loss'][-1]))\n",
        "\n",
        "    # Save model.\n",
        "    model.save('IMDb_mlp_model.h5')\n",
        "    return history['val_acc'][-1], history['val_loss'][-1]"
      ],
      "execution_count": 0,
      "outputs": []
    },
    {
      "cell_type": "markdown",
      "metadata": {
        "id": "flNgY189_H_Y",
        "colab_type": "text"
      },
      "source": [
        "**Запуск модели**"
      ]
    },
    {
      "cell_type": "code",
      "metadata": {
        "id": "E6K_nTXD96rX",
        "colab_type": "code",
        "outputId": "ec27a5b8-0861-4cb1-b903-c7beba424dfd",
        "colab": {
          "base_uri": "https://localhost:8080/",
          "height": 276
        }
      },
      "source": [
        "data = ((x_train_vec, y_train),(x_test_vec, y_test))\n",
        "\n",
        "val_acc,val_loss = train_ngram_model(data,epochs=10)"
      ],
      "execution_count": 0,
      "outputs": [
        {
          "output_type": "stream",
          "text": [
            "Train on 25000 samples, validate on 25000 samples\n",
            "Epoch 1/10\n",
            "25000/25000 - 12s - loss: 0.4695 - acc: 0.8628 - val_loss: 0.3227 - val_acc: 0.8862\n",
            "Epoch 2/10\n",
            "25000/25000 - 12s - loss: 0.2334 - acc: 0.9208 - val_loss: 0.2512 - val_acc: 0.9014\n",
            "Epoch 3/10\n",
            "25000/25000 - 12s - loss: 0.1687 - acc: 0.9407 - val_loss: 0.2337 - val_acc: 0.9066\n",
            "Epoch 4/10\n",
            "25000/25000 - 12s - loss: 0.1350 - acc: 0.9542 - val_loss: 0.2303 - val_acc: 0.9068\n",
            "Epoch 5/10\n",
            "25000/25000 - 12s - loss: 0.1110 - acc: 0.9646 - val_loss: 0.2332 - val_acc: 0.9043\n",
            "Epoch 6/10\n",
            "25000/25000 - 12s - loss: 0.0931 - acc: 0.9705 - val_loss: 0.2393 - val_acc: 0.9027\n",
            "Validation accuracy: 0.9027199745178223, loss: 0.23926945679187775\n"
          ],
          "name": "stdout"
        }
      ]
    },
    {
      "cell_type": "markdown",
      "metadata": {
        "id": "3MrZkt9gB4Nh",
        "colab_type": "text"
      },
      "source": [
        "# 5. Настройка гиперпараметров."
      ]
    },
    {
      "cell_type": "markdown",
      "metadata": {
        "id": "vEYK9aMILHXr",
        "colab_type": "text"
      },
      "source": [
        "**Код подбора параметров и отрисовки графика**"
      ]
    },
    {
      "cell_type": "code",
      "metadata": {
        "id": "_3O0ADT3ELG5",
        "colab_type": "code",
        "colab": {}
      },
      "source": [
        "# Реализация подбора параметров в модели левой ветви алгоритма\n",
        "from mpl_toolkits.mplot3d import Axes3D\n",
        "import matplotlib.pyplot as plt\n",
        "from matplotlib import cm\n",
        "\n",
        "FLAGS = None\n",
        "\n",
        "\n",
        "def tune_ngram_model(data):\n",
        "    \"\"\"Tunes n-gram model on the given dataset.\n",
        "    # Arguments\n",
        "        data: tuples of training and test texts and labels.\n",
        "    \"\"\"\n",
        "    # Select parameter values to try.\n",
        "    num_layers = [1, 2, 3]\n",
        "    num_units = [8, 16, 32]\n",
        "\n",
        "    # Save parameter combination and results.\n",
        "    params = {\n",
        "        'layers': [],\n",
        "        'units': [],\n",
        "        'accuracy': [],\n",
        "    }\n",
        "\n",
        "    # Iterate over all parameter combinations.\n",
        "    for layers in num_layers:\n",
        "        for units in num_units:\n",
        "                params['layers'].append(layers)\n",
        "                params['units'].append(units)\n",
        "\n",
        "                accuracy, _ = train_ngram_model(\n",
        "                    data=data,\n",
        "                    layers=layers,\n",
        "                    units=units)\n",
        "                print(('Accuracy: {accuracy}, Parameters: (layers={layers}, '\n",
        "                       'units={units})').format(accuracy=accuracy,\n",
        "                                                layers=layers,\n",
        "                                                units=units))\n",
        "                params['accuracy'].append(accuracy)\n",
        "    _plot_parameters(params)\n",
        "\n",
        "\n",
        "def _plot_parameters(params):\n",
        "    \"\"\"Creates a 3D surface plot of given parameters.\n",
        "    # Arguments\n",
        "        params: dict, contains layers, units and accuracy value combinations.\n",
        "    \"\"\"\n",
        "    fig = plt.figure()\n",
        "    ax = fig.gca(projection='3d')\n",
        "    ax.plot_trisurf(params['layers'],\n",
        "                    params['units'],\n",
        "                    params['accuracy'],\n",
        "                    cmap=cm.coolwarm,\n",
        "                    antialiased=False)\n",
        "plt.show()"
      ],
      "execution_count": 0,
      "outputs": []
    },
    {
      "cell_type": "markdown",
      "metadata": {
        "id": "cFJ_s1jUEsPI",
        "colab_type": "text"
      },
      "source": [
        "**Подбор параметров и отрисовка графика**"
      ]
    },
    {
      "cell_type": "code",
      "metadata": {
        "id": "oPS2rIIlExUu",
        "colab_type": "code",
        "outputId": "4f0c17d8-180b-465e-c32f-971ae39240d6",
        "colab": {
          "base_uri": "https://localhost:8080/",
          "height": 1000
        }
      },
      "source": [
        "tune_ngram_model(data)"
      ],
      "execution_count": 0,
      "outputs": [
        {
          "output_type": "stream",
          "text": [
            "Train on 25000 samples, validate on 25000 samples\n",
            "Epoch 1/5\n",
            "25000/25000 - 8s - loss: 0.6692 - acc: 0.7968 - val_loss: 0.6489 - val_acc: 0.8472\n",
            "Epoch 2/5\n",
            "25000/25000 - 8s - loss: 0.6230 - acc: 0.8764 - val_loss: 0.6105 - val_acc: 0.8525\n",
            "Epoch 3/5\n",
            "25000/25000 - 8s - loss: 0.5833 - acc: 0.8784 - val_loss: 0.5777 - val_acc: 0.8561\n",
            "Epoch 4/5\n",
            "25000/25000 - 8s - loss: 0.5491 - acc: 0.8822 - val_loss: 0.5494 - val_acc: 0.8597\n",
            "Epoch 5/5\n",
            "25000/25000 - 8s - loss: 0.5195 - acc: 0.8860 - val_loss: 0.5247 - val_acc: 0.8621\n",
            "Validation accuracy: 0.8620799779891968, loss: 0.5247091780090332\n",
            "Accuracy: 0.8620799779891968, Parameters: (layers=1, units=8)\n",
            "Train on 25000 samples, validate on 25000 samples\n",
            "Epoch 1/5\n",
            "25000/25000 - 8s - loss: 0.6686 - acc: 0.8404 - val_loss: 0.6481 - val_acc: 0.8483\n",
            "Epoch 2/5\n",
            "25000/25000 - 8s - loss: 0.6222 - acc: 0.8771 - val_loss: 0.6098 - val_acc: 0.8508\n",
            "Epoch 3/5\n",
            "25000/25000 - 8s - loss: 0.5825 - acc: 0.8812 - val_loss: 0.5769 - val_acc: 0.8562\n",
            "Epoch 4/5\n",
            "25000/25000 - 8s - loss: 0.5483 - acc: 0.8826 - val_loss: 0.5485 - val_acc: 0.8592\n",
            "Epoch 5/5\n",
            "25000/25000 - 8s - loss: 0.5186 - acc: 0.8855 - val_loss: 0.5239 - val_acc: 0.8622\n",
            "Validation accuracy: 0.8621600270271301, loss: 0.5238855584526062\n",
            "Accuracy: 0.8621600270271301, Parameters: (layers=1, units=16)\n",
            "Train on 25000 samples, validate on 25000 samples\n",
            "Epoch 1/5\n",
            "25000/25000 - 8s - loss: 0.6688 - acc: 0.7878 - val_loss: 0.6483 - val_acc: 0.8482\n",
            "Epoch 2/5\n",
            "25000/25000 - 8s - loss: 0.6223 - acc: 0.8748 - val_loss: 0.6100 - val_acc: 0.8530\n",
            "Epoch 3/5\n",
            "25000/25000 - 8s - loss: 0.5825 - acc: 0.8797 - val_loss: 0.5771 - val_acc: 0.8572\n",
            "Epoch 4/5\n",
            "25000/25000 - 8s - loss: 0.5484 - acc: 0.8837 - val_loss: 0.5487 - val_acc: 0.8596\n",
            "Epoch 5/5\n",
            "25000/25000 - 8s - loss: 0.5188 - acc: 0.8847 - val_loss: 0.5241 - val_acc: 0.8616\n",
            "Validation accuracy: 0.8615599870681763, loss: 0.5241169583797455\n",
            "Accuracy: 0.8615599870681763, Parameters: (layers=1, units=32)\n",
            "Train on 25000 samples, validate on 25000 samples\n",
            "Epoch 1/5\n",
            "25000/25000 - 9s - loss: 0.6045 - acc: 0.7786 - val_loss: 0.5180 - val_acc: 0.8546\n",
            "Epoch 2/5\n",
            "25000/25000 - 8s - loss: 0.4320 - acc: 0.8800 - val_loss: 0.3872 - val_acc: 0.8838\n",
            "Epoch 3/5\n",
            "25000/25000 - 8s - loss: 0.3318 - acc: 0.8946 - val_loss: 0.3223 - val_acc: 0.8926\n",
            "Epoch 4/5\n",
            "25000/25000 - 9s - loss: 0.2735 - acc: 0.9118 - val_loss: 0.2861 - val_acc: 0.8984\n",
            "Epoch 5/5\n",
            "25000/25000 - 8s - loss: 0.2362 - acc: 0.9231 - val_loss: 0.2646 - val_acc: 0.9021\n",
            "Validation accuracy: 0.9020799994468689, loss: 0.2646365174627304\n",
            "Accuracy: 0.9020799994468689, Parameters: (layers=2, units=8)\n",
            "Train on 25000 samples, validate on 25000 samples\n",
            "Epoch 1/5\n",
            "25000/25000 - 9s - loss: 0.5765 - acc: 0.8371 - val_loss: 0.4604 - val_acc: 0.8706\n",
            "Epoch 2/5\n",
            "25000/25000 - 9s - loss: 0.3593 - acc: 0.8927 - val_loss: 0.3263 - val_acc: 0.8878\n",
            "Epoch 3/5\n",
            "25000/25000 - 9s - loss: 0.2618 - acc: 0.9146 - val_loss: 0.2760 - val_acc: 0.8973\n",
            "Epoch 4/5\n",
            "25000/25000 - 9s - loss: 0.2123 - acc: 0.9277 - val_loss: 0.2523 - val_acc: 0.9016\n",
            "Epoch 5/5\n",
            "25000/25000 - 9s - loss: 0.1814 - acc: 0.9377 - val_loss: 0.2408 - val_acc: 0.9044\n",
            "Validation accuracy: 0.9044399857521057, loss: 0.24082173624038697\n",
            "Accuracy: 0.9044399857521057, Parameters: (layers=2, units=16)\n",
            "Train on 25000 samples, validate on 25000 samples\n",
            "Epoch 1/5\n",
            "25000/25000 - 10s - loss: 0.5327 - acc: 0.8536 - val_loss: 0.3889 - val_acc: 0.8772\n",
            "Epoch 2/5\n",
            "25000/25000 - 10s - loss: 0.2905 - acc: 0.9065 - val_loss: 0.2810 - val_acc: 0.8956\n",
            "Epoch 3/5\n",
            "25000/25000 - 10s - loss: 0.2081 - acc: 0.9292 - val_loss: 0.2469 - val_acc: 0.9034\n",
            "Epoch 4/5\n",
            "25000/25000 - 10s - loss: 0.1699 - acc: 0.9403 - val_loss: 0.2336 - val_acc: 0.9067\n",
            "Epoch 5/5\n",
            "25000/25000 - 10s - loss: 0.1422 - acc: 0.9524 - val_loss: 0.2292 - val_acc: 0.9082\n",
            "Validation accuracy: 0.9082000255584717, loss: 0.22915644508123398\n",
            "Accuracy: 0.9082000255584717, Parameters: (layers=2, units=32)\n",
            "Train on 25000 samples, validate on 25000 samples\n",
            "Epoch 1/5\n",
            "25000/25000 - 9s - loss: 0.6101 - acc: 0.7605 - val_loss: 0.4779 - val_acc: 0.8807\n",
            "Epoch 2/5\n",
            "25000/25000 - 9s - loss: 0.3835 - acc: 0.8686 - val_loss: 0.3024 - val_acc: 0.8966\n",
            "Epoch 3/5\n",
            "25000/25000 - 9s - loss: 0.2704 - acc: 0.9056 - val_loss: 0.2510 - val_acc: 0.9040\n",
            "Epoch 4/5\n",
            "25000/25000 - 9s - loss: 0.2199 - acc: 0.9252 - val_loss: 0.2350 - val_acc: 0.9059\n",
            "Epoch 5/5\n",
            "25000/25000 - 9s - loss: 0.1858 - acc: 0.9383 - val_loss: 0.2323 - val_acc: 0.9062\n",
            "Validation accuracy: 0.9062399864196777, loss: 0.23234464160919188\n",
            "Accuracy: 0.9062399864196777, Parameters: (layers=3, units=8)\n",
            "Train on 25000 samples, validate on 25000 samples\n",
            "Epoch 1/5\n",
            "25000/25000 - 9s - loss: 0.5183 - acc: 0.8290 - val_loss: 0.3125 - val_acc: 0.8923\n",
            "Epoch 2/5\n",
            "25000/25000 - 9s - loss: 0.2386 - acc: 0.9149 - val_loss: 0.2421 - val_acc: 0.9017\n",
            "Epoch 3/5\n",
            "25000/25000 - 9s - loss: 0.1680 - acc: 0.9410 - val_loss: 0.2398 - val_acc: 0.9008\n",
            "Epoch 4/5\n",
            "25000/25000 - 9s - loss: 0.1271 - acc: 0.9574 - val_loss: 0.2437 - val_acc: 0.9016\n",
            "Epoch 5/5\n",
            "25000/25000 - 9s - loss: 0.1016 - acc: 0.9658 - val_loss: 0.2577 - val_acc: 0.8997\n",
            "Validation accuracy: 0.8997200131416321, loss: 0.2577036781978607\n",
            "Accuracy: 0.8997200131416321, Parameters: (layers=3, units=16)\n",
            "Train on 25000 samples, validate on 25000 samples\n",
            "Epoch 1/5\n",
            "25000/25000 - 11s - loss: 0.4431 - acc: 0.8346 - val_loss: 0.2497 - val_acc: 0.8998\n",
            "Epoch 2/5\n",
            "25000/25000 - 10s - loss: 0.1754 - acc: 0.9346 - val_loss: 0.2366 - val_acc: 0.9029\n",
            "Epoch 3/5\n",
            "25000/25000 - 10s - loss: 0.1165 - acc: 0.9584 - val_loss: 0.2513 - val_acc: 0.9020\n",
            "Epoch 4/5\n",
            "25000/25000 - 10s - loss: 0.0883 - acc: 0.9701 - val_loss: 0.2792 - val_acc: 0.8974\n",
            "Validation accuracy: 0.8974000215530396, loss: 0.2792073774814606\n",
            "Accuracy: 0.8974000215530396, Parameters: (layers=3, units=32)\n"
          ],
          "name": "stdout"
        },
        {
          "output_type": "display_data",
          "data": {
            "image/png": "[encoded data removed]",
            "text/plain": [
              "<Figure size 432x288 with 1 Axes>"
            ]
          },
          "metadata": {
            "tags": []
          }
        }
      ]
    },
    {
      "cell_type": "markdown",
      "metadata": {
        "id": "MKRzQokcCQQN",
        "colab_type": "text"
      },
      "source": [
        "# 6. Заключение.\n",
        "Классификация текста - это фундаментальная задача машинного обучения, возникающая в различных областях. В этом руководстве процесс классификации текста разбит на несколько этапов. Для каждого этапа предложен индивидуальный подход, основанный на характеристиках конкретного набора данных. В частности, используя отношение количества объектов в выборке к медианному значению числа слов в выборке предлагается использование определенного типа модели, базавая реализация которого приводит к достаточно хорошим показателям аккуратности классификации. Однако это только хороший базовый этап - получение наилучшей модели требует глубокой проработки данных и настройки модели."
      ]
    },
    {
      "cell_type": "code",
      "metadata": {
        "id": "YlZqIg9IpeIx",
        "colab_type": "code",
        "colab": {}
      },
      "source": [
        ""
      ],
      "execution_count": 0,
      "outputs": []
    }
  ]
}